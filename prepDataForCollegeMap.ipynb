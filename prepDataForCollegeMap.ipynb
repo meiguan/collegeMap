{
 "cells": [
  {
   "cell_type": "markdown",
   "metadata": {},
   "source": [
    "### prepDataForCollegeMap\n",
    "documentation: https://educationdata.urban.org/documentation/colleges.html#nhgis-geographic-variables-2010-census-geographies"
   ]
  },
  {
   "cell_type": "code",
   "execution_count": null,
   "metadata": {},
   "outputs": [],
   "source": [
    "import pandas as pd\n",
    "import numpy as np\n",
    "import geopandas as gpd\n",
    "from shapely.geometry import Point\n",
    "\n",
    "import matplotlib.pyplot as plt\n",
    "%matplotlib inline"
   ]
  },
  {
   "cell_type": "code",
   "execution_count": null,
   "metadata": {},
   "outputs": [],
   "source": [
    "geo = pd.read_csv('data/stag_college_geo.csv')\n",
    "dire = pd.read_csv('data/stag_college_info.csv',low_memory=False)\n",
    "adm = pd.read_csv('data/stag_college_admissions.csv')\n",
    "req = pd.read_csv('data/stag_college_admissions_req.csv')\n",
    "comp = pd.read_csv('data/stag_college_completers.csv')\n",
    "aid = pd.read_csv('data/stag_college_student_info.csv')"
   ]
  },
  {
   "cell_type": "markdown",
   "metadata": {},
   "source": [
    "### check geo df"
   ]
  },
  {
   "cell_type": "code",
   "execution_count": null,
   "metadata": {},
   "outputs": [],
   "source": [
    "geo.columns"
   ]
  },
  {
   "cell_type": "code",
   "execution_count": null,
   "metadata": {},
   "outputs": [],
   "source": [
    "geo.drop(columns=['census_region', 'census_division', 'class_code', 'fips', 'state_fips_geo', 'year',\n",
    "                  'county_fips', 'geocode_accuracy', 'geocode_accuracy_detailed','county_fips_geo', 'tract',\n",
    "                  'block_group', 'puma', 'geoid_block','msa_cmsa', 'place_fips', 'geoid_place', 'place_name',\n",
    "                  'upper_chamber','state_leg_district_upper', 'upper_chamber_name', 'lower_chamber',\n",
    "                  'state_leg_district_lower', 'lower_chamber_name'], inplace=True)"
   ]
  },
  {
   "cell_type": "code",
   "execution_count": null,
   "metadata": {},
   "outputs": [],
   "source": [
    "geo.head()"
   ]
  },
  {
   "cell_type": "code",
   "execution_count": null,
   "metadata": {},
   "outputs": [],
   "source": [
    "len(geo)"
   ]
  },
  {
   "cell_type": "code",
   "execution_count": null,
   "metadata": {},
   "outputs": [],
   "source": [
    "len(geo.unitid.unique())"
   ]
  },
  {
   "cell_type": "markdown",
   "metadata": {},
   "source": [
    "### college info"
   ]
  },
  {
   "cell_type": "code",
   "execution_count": null,
   "metadata": {},
   "outputs": [],
   "source": [
    "dire.columns"
   ]
  },
  {
   "cell_type": "code",
   "execution_count": null,
   "metadata": {},
   "outputs": [],
   "source": [
    "dire.drop(columns=['fips', 'inst_name', 'address', 'state_abbr', 'zip',\n",
    "                   'phone_number', 'city', 'county_name', \n",
    "                   'region', 'inst_control', 'institution_level', \n",
    "                   'chief_admin_name', 'chief_admin_title', \n",
    "                   'primarily_postsecondary', 'hospital', 'medical_degree',\n",
    "                   'tribal_college', 'ein','offering_highest_level',\n",
    "                   'offering_highest_degree', 'currently_active_ipeds', 'date_closed',\n",
    "                   'duns', 'title_iv_indicator', 'offering_undergrad', 'offering_grad',\n",
    "                   'newid', 'year_deleted', 'url_school', 'degree_granting', 'open_public',\n",
    "                   'postsec_public_active', 'postsec_public_active_title_iv',\n",
    "                   'inst_system_flag', 'inst_system_name', 'reporting_method',\n",
    "                   'inst_category','inst_alias', 'url_fin_aid',\n",
    "                   'cbsa', 'cbsa_type', 'csa', 'necta',\n",
    "                   'comparison_group', 'longitude', 'latitude', 'county_fips',\n",
    "                   'congress_district_id', 'cc_basic_2010', 'cc_instruc_undergrad_2010',\n",
    "                   'cc_instruc_grad_2010', 'cc_undergrad_2010', 'cc_enroll_2010',\n",
    "                   'cc_size_setting_2010', 'cc_basic_2000', 'url_netprice',\n",
    "                   'comparison_group_custom', 'url_veterans', 'url_athletes',\n",
    "                   'cc_basic_2015', 'cc_instruc_undergrad_2015', 'cc_instruc_grad_2015',\n",
    "                   'cc_undergrad_2015', 'cc_enroll_2015', 'cc_size_setting_2015',\n",
    "                   'url_disability_services', 'inst_status'], inplace=True)"
   ]
  },
  {
   "cell_type": "code",
   "execution_count": null,
   "metadata": {},
   "outputs": [],
   "source": [
    "dcols = ['sector', 'hbcu', 'urban_centric_locale', 'land_grant', 'inst_size', 'url_application']"
   ]
  },
  {
   "cell_type": "code",
   "execution_count": null,
   "metadata": {},
   "outputs": [],
   "source": [
    "dire[dcols] = dire[dcols].replace({-1:np.nan, -2:np.nan, -3:np.nan})"
   ]
  },
  {
   "cell_type": "code",
   "execution_count": null,
   "metadata": {},
   "outputs": [],
   "source": [
    "dire['sector'] = dire['sector'].replace({0:\"Administrative unit\",\n",
    "                                         1:\"Public, four-year or above\",\n",
    "                                         2:\"Private not-for-profit, four-year or above\",\n",
    "                                         3:\"Private for-profit, four-year or above\", \n",
    "                                         4:\"Public, two-year\", \n",
    "                                         5:\"Private not-for-profit, two-year\", \n",
    "                                         6:\"Private for-profit, two-year\", \n",
    "                                         7:\"Public, less-than two-year\", \n",
    "                                         8:\"Private not-for-profit, less-than-two-year\", \n",
    "                                         9:\"Private for-profit, less-than-two-year\", \n",
    "                                        np.nan:\"Unreported\"})"
   ]
  },
  {
   "cell_type": "code",
   "execution_count": null,
   "metadata": {},
   "outputs": [],
   "source": [
    "dire['hbcu'] = dire['hbcu'].replace({0:\"No\", 1:\"Yes\"})"
   ]
  },
  {
   "cell_type": "code",
   "execution_count": null,
   "metadata": {},
   "outputs": [],
   "source": [
    "dire['urban_centric_locale']=dire['urban_centric_locale'].replace({1:\"Large city\", \n",
    "                                                                  2:\"Midsize city\", \n",
    "                                                                  3:\"Urban fringe of large city\", \n",
    "                                                                  4:\"Urban fringe of midsize city\", \n",
    "                                                                  5:\"Large town\", \n",
    "                                                                  6:\"Small town\", \n",
    "                                                                  7:\"Rural\", \n",
    "                                                                  8:\"Rural\", \n",
    "                                                                  9:\"Not assigned\", \n",
    "                                                                  11:\"Large city\", \n",
    "                                                                  12:\"Midsize city\",\n",
    "                                                                  13:\"Small city\",\n",
    "                                                                  21:\"Suburb\",\n",
    "                                                                  22:\"Suburb\",\n",
    "                                                                  23:\"Suburb\",\n",
    "                                                                  31:\"Town\",\n",
    "                                                                  32:\"Town\", \n",
    "                                                                  33:\"Town\",\n",
    "                                                                  41:\"Rural\",\n",
    "                                                                  42:\"Rural\",\n",
    "                                                                  43:\"Rural\"})"
   ]
  },
  {
   "cell_type": "code",
   "execution_count": null,
   "metadata": {},
   "outputs": [],
   "source": [
    "dire['land_grant'] = dire['land_grant'].replace({0:\"No\", 1:\"Yes\"})"
   ]
  },
  {
   "cell_type": "code",
   "execution_count": null,
   "metadata": {},
   "outputs": [],
   "source": [
    "dire['inst_size'] = dire['inst_size'].replace({1:\"Under 1,000\", 2:\"1,000–4,999\", 3:\"5,000–9,999\", \n",
    "                                               4:\"10,000–19,999\", 5:\"20,000 and above\"})"
   ]
  },
  {
   "cell_type": "code",
   "execution_count": null,
   "metadata": {},
   "outputs": [],
   "source": [
    "geo = dire.merge(geo, on=['unitid','opeid'])\n",
    "geo.to_csv('data/clean_college_geo.csv', index=False)"
   ]
  },
  {
   "cell_type": "code",
   "execution_count": null,
   "metadata": {},
   "outputs": [],
   "source": [
    "geo.year.unique()"
   ]
  },
  {
   "cell_type": "markdown",
   "metadata": {},
   "source": [
    "### check admissions df"
   ]
  },
  {
   "cell_type": "code",
   "execution_count": null,
   "metadata": {},
   "outputs": [],
   "source": [
    "adm.columns"
   ]
  },
  {
   "cell_type": "code",
   "execution_count": null,
   "metadata": {},
   "outputs": [],
   "source": [
    "adm.drop(columns=['fips'], inplace=True)"
   ]
  },
  {
   "cell_type": "code",
   "execution_count": null,
   "metadata": {},
   "outputs": [],
   "source": [
    "adm.dtypes"
   ]
  },
  {
   "cell_type": "markdown",
   "metadata": {},
   "source": [
    "cleaning the admissions df:\n",
    "\n",
    "recode the values into NaNs\n",
    "\n",
    "- 1—Missing/not reported\n",
    "- 2—Not applicable\n",
    "- 3—Suppressed data"
   ]
  },
  {
   "cell_type": "code",
   "execution_count": null,
   "metadata": {},
   "outputs": [],
   "source": [
    "cols = ['sex', 'number_applied', 'number_admitted',\n",
    "        'number_enrolled_ft', 'number_enrolled_pt', 'number_enrolled_total']\n",
    "adm[cols] = adm[cols].replace({-1:np.nan, -2:np.nan, -3:np.nan})"
   ]
  },
  {
   "cell_type": "code",
   "execution_count": null,
   "metadata": {},
   "outputs": [],
   "source": [
    "adm['sex'].unique()"
   ]
  },
  {
   "cell_type": "code",
   "execution_count": null,
   "metadata": {},
   "outputs": [],
   "source": [
    "# recode gender\n",
    "adm['gender'] = \"Total\"\n",
    "adm.loc[adm['sex']==1, 'gender'] = \"Male\"\n",
    "adm.loc[adm['sex']==2, 'gender'] = \"Female\""
   ]
  },
  {
   "cell_type": "code",
   "execution_count": null,
   "metadata": {},
   "outputs": [],
   "source": [
    "adm.year.unique()"
   ]
  },
  {
   "cell_type": "code",
   "execution_count": null,
   "metadata": {},
   "outputs": [],
   "source": [
    "adm['pct_admitted'] = adm['number_admitted']/adm['number_applied']\n",
    "adm['pct_matriculated'] = adm['number_enrolled_total']/adm['number_admitted']"
   ]
  },
  {
   "cell_type": "code",
   "execution_count": null,
   "metadata": {},
   "outputs": [],
   "source": [
    "adm.head()"
   ]
  },
  {
   "cell_type": "code",
   "execution_count": null,
   "metadata": {},
   "outputs": [],
   "source": [
    "adm.to_csv('data/clean_college_admissions.csv', index=False)"
   ]
  },
  {
   "cell_type": "markdown",
   "metadata": {},
   "source": [
    "### check requirements for admissions"
   ]
  },
  {
   "cell_type": "code",
   "execution_count": null,
   "metadata": {},
   "outputs": [],
   "source": [
    "req.columns"
   ]
  },
  {
   "cell_type": "code",
   "execution_count": null,
   "metadata": {},
   "outputs": [],
   "source": [
    "req.drop(columns=['fips', 'reqt_hs_diploma', 'reqt_hs_rank','reqt_sat_scores', 'reqt_other_test',\n",
    "                  'reqt_residence', 'reqt_ability_to_benefit', 'reqt_age', 'reqt_toefl','reqt_other',\n",
    "                  'years_college_reqd', 'no_entering_freshmen', 'reqt_hs_record','reqt_college_prep', \n",
    "                  'reqt_competencies', 'sat_act_report_period'], inplace=True)"
   ]
  },
  {
   "cell_type": "code",
   "execution_count": null,
   "metadata": {},
   "outputs": [],
   "source": [
    "rcols = ['reqt_test_scores', 'open_admissions_policy',\n",
    "       'reqt_hs_gpa', 'reqt_recommendations', 'sat_number_submitting',\n",
    "       'sat_percent_submitting', 'act_number_submitting',\n",
    "       'act_percent_submitting', 'sat_crit_read_25_pctl',\n",
    "       'sat_crit_read_75_pctl', 'sat_math_25_pctl', 'sat_math_75_pctl',\n",
    "       'act_composite_25_pctl', 'act_composite_75_pctl', 'act_english_25_pctl',\n",
    "       'act_english_75_pctl', 'act_math_25_pctl', 'act_math_75_pctl',\n",
    "       'sat_writing_25_pctl', 'sat_writing_75_pctl', 'act_writing_25_pctl',\n",
    "       'act_writing_75_pctl']\n",
    "req[rcols] = req[rcols].replace({-1:np.nan, -2:np.nan, -3:np.nan})"
   ]
  },
  {
   "cell_type": "code",
   "execution_count": null,
   "metadata": {},
   "outputs": [],
   "source": [
    "req.reqt_test_scores.unique()"
   ]
  },
  {
   "cell_type": "code",
   "execution_count": null,
   "metadata": {},
   "outputs": [],
   "source": [
    "req['reqt_test_scores'] = req['reqt_test_scores'].replace({0:\"Neither required nor recommended\",1:\"Required\",\n",
    "                                                           2:\"Recommended\", 3:\"Considered\", np.nan:\"Unreported\"})"
   ]
  },
  {
   "cell_type": "code",
   "execution_count": null,
   "metadata": {},
   "outputs": [],
   "source": [
    "req.open_admissions_policy.unique()"
   ]
  },
  {
   "cell_type": "code",
   "execution_count": null,
   "metadata": {},
   "outputs": [],
   "source": [
    "req['open_admissions_policy'] = req['open_admissions_policy'].replace({0:\"No\",1:\"Yes\",\n",
    "                                                                       np.nan:\"Unreported\"})"
   ]
  },
  {
   "cell_type": "code",
   "execution_count": null,
   "metadata": {},
   "outputs": [],
   "source": [
    "req.reqt_hs_gpa.unique()"
   ]
  },
  {
   "cell_type": "code",
   "execution_count": null,
   "metadata": {},
   "outputs": [],
   "source": [
    "req['reqt_hs_gpa'] = req['reqt_hs_gpa'].replace({0:\"Neither required nor recommended\",1:\"Required\",\n",
    "                                                 2:\"Recommended\", 3:\"Considered\", np.nan:\"Unreported\"})"
   ]
  },
  {
   "cell_type": "code",
   "execution_count": null,
   "metadata": {},
   "outputs": [],
   "source": [
    "req.reqt_recommendations.unique()"
   ]
  },
  {
   "cell_type": "code",
   "execution_count": null,
   "metadata": {},
   "outputs": [],
   "source": [
    "req['reqt_recommendations'] = req['reqt_recommendations'].replace({0:\"Neither required nor recommended\",1:\"Required\",\n",
    "                                                                   2:\"Recommended\", 3:\"Considered\", np.nan:\"Unreported\"})"
   ]
  },
  {
   "cell_type": "code",
   "execution_count": null,
   "metadata": {},
   "outputs": [],
   "source": [
    "req.describe()"
   ]
  },
  {
   "cell_type": "code",
   "execution_count": null,
   "metadata": {},
   "outputs": [],
   "source": [
    "req.head()"
   ]
  },
  {
   "cell_type": "code",
   "execution_count": null,
   "metadata": {},
   "outputs": [],
   "source": [
    "req.year.unique()"
   ]
  },
  {
   "cell_type": "code",
   "execution_count": null,
   "metadata": {},
   "outputs": [],
   "source": [
    "len(req)/3"
   ]
  },
  {
   "cell_type": "code",
   "execution_count": null,
   "metadata": {},
   "outputs": [],
   "source": [
    "req.to_csv('data/clean_college_admissions_req.csv', index=False)"
   ]
  },
  {
   "cell_type": "markdown",
   "metadata": {},
   "source": [
    "### check completers df"
   ]
  },
  {
   "cell_type": "code",
   "execution_count": null,
   "metadata": {},
   "outputs": [],
   "source": [
    "comp.columns"
   ]
  },
  {
   "cell_type": "code",
   "execution_count": null,
   "metadata": {},
   "outputs": [],
   "source": [
    "ccols = ['cohort_year', 'institution_level',\n",
    "       'subcohort', 'race', 'sex', 'cohort_rev', 'exclusions',\n",
    "       'cohort_adj_150pct', 'completers_150pct', 'transfers_out',\n",
    "       'still_enrolled_long_program', 'completers_100pct', 'still_enrolled',\n",
    "       'no_longer_enrolled', 'completion_rate_150pct']\n",
    "comp[ccols] = comp[ccols].replace({-1:np.nan, -2:np.nan, -3:np.nan})"
   ]
  },
  {
   "cell_type": "code",
   "execution_count": null,
   "metadata": {},
   "outputs": [],
   "source": [
    "comp.institution_level.unique()"
   ]
  },
  {
   "cell_type": "code",
   "execution_count": null,
   "metadata": {},
   "outputs": [],
   "source": [
    "comp['institution_level'] = comp['institution_level'].replace({1:\"Less than two years (below associate's)\",\n",
    "                                                               2:\"At least two but less than four years\",\n",
    "                                                               4:\"Four or more years\"})"
   ]
  },
  {
   "cell_type": "code",
   "execution_count": null,
   "metadata": {},
   "outputs": [],
   "source": [
    "comp.subcohort.unique()"
   ]
  },
  {
   "cell_type": "code",
   "execution_count": null,
   "metadata": {},
   "outputs": [],
   "source": [
    "comp['subcohort'] = comp['subcohort'].replace({1:\"Degree/certificate nonbachelor's seeking subcohort of four-year institutions\",\n",
    "                                               2:\"Bachelor's or equivalent subcohort of four-year institutions\",\n",
    "                                               99:\"Total\"})"
   ]
  },
  {
   "cell_type": "code",
   "execution_count": null,
   "metadata": {},
   "outputs": [],
   "source": [
    "comp.race.unique()"
   ]
  },
  {
   "cell_type": "code",
   "execution_count": null,
   "metadata": {},
   "outputs": [],
   "source": [
    "comp['race'] = comp['race'].replace({1:\"White\",2:\"Black\",3:\"Hispanic\", 4:\"Asian\", 5:\"American Indian or Alaska Native\",\n",
    "                                     6:\"Native Hawaiian or other Pacific Islander\", 7:\"Two or more races\",\n",
    "                                     8:\"Nonresident alien\", 9:\"Unknown\", 20:\"Other\", 99:\"Total\"})"
   ]
  },
  {
   "cell_type": "code",
   "execution_count": null,
   "metadata": {},
   "outputs": [],
   "source": [
    "comp.sex.unique()"
   ]
  },
  {
   "cell_type": "code",
   "execution_count": null,
   "metadata": {},
   "outputs": [],
   "source": [
    "comp['gender'] = comp['sex'].replace({1:\"Male\",2:\"Female\",99:\"Total\"})"
   ]
  },
  {
   "cell_type": "code",
   "execution_count": null,
   "metadata": {},
   "outputs": [],
   "source": [
    "comp.head()"
   ]
  },
  {
   "cell_type": "code",
   "execution_count": null,
   "metadata": {},
   "outputs": [],
   "source": [
    "comp.cohort_year.unique()"
   ]
  },
  {
   "cell_type": "code",
   "execution_count": null,
   "metadata": {},
   "outputs": [],
   "source": [
    "len(comp)"
   ]
  },
  {
   "cell_type": "code",
   "execution_count": null,
   "metadata": {},
   "outputs": [],
   "source": [
    "comp.year.unique()"
   ]
  },
  {
   "cell_type": "code",
   "execution_count": null,
   "metadata": {},
   "outputs": [],
   "source": [
    "comp.to_csv('data/clean_college_completers.csv', index=False)"
   ]
  },
  {
   "cell_type": "markdown",
   "metadata": {},
   "source": [
    "### check aid df"
   ]
  },
  {
   "cell_type": "code",
   "execution_count": null,
   "metadata": {},
   "outputs": [],
   "source": [
    "aid.columns"
   ]
  },
  {
   "cell_type": "code",
   "execution_count": null,
   "metadata": {},
   "outputs": [],
   "source": [
    "aid.drop(columns=['independent_pct', 'dependent_lowincome_pct', 'independent_lowincome_pct', 'midincome1_pct', 'midincome2_pct',\n",
    "                  'highincome1_pct', 'highincome2_pct', 'dependent_midincome1_pct','dependent_midincome2_pct',\n",
    "                  'dependent_highincome1_pct','dependent_highincome2_pct', 'independent_midincome1_pct','fips', \n",
    "                  'independent_midincome2_pct', 'independent_highincome1_pct','independent_highincome2_pct',\n",
    "                  'parents_highest_ed_middle_school', 'parents_highest_ed_high_school', 'parents_highest_ed_postsecondary', \n",
    "                  'dependent_income_mean', 'independent_income_mean','faminc_independents_mean', 'count_family_income',\n",
    "                  'count_family_income_dependent', 'count_family_income_independent', 'count_valid_dep_status',\n",
    "                  'count_parent_ed', 'age_24orolder_pct','female_pct', 'married_pct', 'dependent_pct', 'veteran_pct',\n",
    "                  'midincome_pct', 'highincome_pct','dependent_midincome_pct', 'dependent_highincome_pct',\n",
    "                  'independent_midincome_pct', 'independent_highincome_pct'], inplace=True)"
   ]
  },
  {
   "cell_type": "code",
   "execution_count": null,
   "metadata": {},
   "outputs": [],
   "source": [
    "acols = ['lowincome_pct','fafsa_sent_2ormore_pct', 'fafsa_sent_3ormore_pct',\n",
    "       'fafsa_sent_4ormore_pct', 'fafsa_sent_5ormore_pct',\n",
    "       'count_total_fafsa_applicants', 'first_gen_student_pct', 'faminc_mean','faminc_med']"
   ]
  },
  {
   "cell_type": "code",
   "execution_count": null,
   "metadata": {},
   "outputs": [],
   "source": [
    "aid[acols] = aid[acols].replace({-1:np.nan, -2:np.nan, -3:np.nan})"
   ]
  },
  {
   "cell_type": "code",
   "execution_count": null,
   "metadata": {},
   "outputs": [],
   "source": [
    "aid"
   ]
  },
  {
   "cell_type": "code",
   "execution_count": null,
   "metadata": {},
   "outputs": [],
   "source": [
    "aid.year.unique()"
   ]
  },
  {
   "cell_type": "code",
   "execution_count": null,
   "metadata": {},
   "outputs": [],
   "source": [
    "aid.to_csv('data/clean_college_student_info.csv', index=False)"
   ]
  },
  {
   "cell_type": "code",
   "execution_count": null,
   "metadata": {},
   "outputs": [],
   "source": [
    "df = geo.merge(adm, on=['year', 'unitid']).merge(req,\n",
    "                         on=['year', 'unitid'])"
   ]
  },
  {
   "cell_type": "code",
   "execution_count": null,
   "metadata": {},
   "outputs": [],
   "source": [
    "df['opeidi'] = pd.to_numeric(df['opeid'],errors='coerce').fillna(0).astype(int)"
   ]
  },
  {
   "cell_type": "code",
   "execution_count": null,
   "metadata": {},
   "outputs": [],
   "source": [
    "df2 = df.merge(aid, left_on = ['year', 'unitid', 'opeidi'],\n",
    "               right_on=['year', 'unitid', 'opeid'])"
   ]
  },
  {
   "cell_type": "code",
   "execution_count": null,
   "metadata": {},
   "outputs": [],
   "source": [
    "df2.rename(columns=({'opeid_x':'opeid'}), inplace=True)\n",
    "df2.drop(columns=['opeid6', 'opeid_y'], inplace=True)"
   ]
  },
  {
   "cell_type": "code",
   "execution_count": null,
   "metadata": {},
   "outputs": [],
   "source": [
    "df3 = df2.merge(comp, left_on = ['year', 'unitid','sex', 'gender'],\n",
    "                right_on=['year', 'unitid', 'sex', 'gender'], \n",
    "               how='left')"
   ]
  },
  {
   "cell_type": "code",
   "execution_count": null,
   "metadata": {},
   "outputs": [],
   "source": [
    "df3.to_csv('data/clean_college.csv', index=False)"
   ]
  },
  {
   "cell_type": "markdown",
   "metadata": {},
   "source": [
    "### Trim down to only NY Universities"
   ]
  },
  {
   "cell_type": "code",
   "execution_count": null,
   "metadata": {
    "scrolled": true
   },
   "outputs": [],
   "source": [
    "geo.year.value_counts()"
   ]
  },
  {
   "cell_type": "code",
   "execution_count": null,
   "metadata": {},
   "outputs": [],
   "source": [
    "geo[geo.state_abbr=='NY'].sector.value_counts()"
   ]
  },
  {
   "cell_type": "code",
   "execution_count": null,
   "metadata": {},
   "outputs": [],
   "source": [
    "nyColleges = geo[(geo.year==2017) & \n",
    "                 (geo.sector.isin(['Private not-for-profit, four-year or above', 'Public, four-year or above'])) &\n",
    "                 (geo.state_abbr == 'NY') & (geo.inst_size != 'Under 1,000')].copy()"
   ]
  },
  {
   "cell_type": "code",
   "execution_count": null,
   "metadata": {},
   "outputs": [],
   "source": [
    "nyColleges.reset_index(inplace=True)"
   ]
  },
  {
   "cell_type": "code",
   "execution_count": null,
   "metadata": {},
   "outputs": [],
   "source": [
    "nyColleges.columns"
   ]
  },
  {
   "cell_type": "code",
   "execution_count": null,
   "metadata": {},
   "outputs": [],
   "source": [
    "nyColleges.drop(columns=['year', 'sector', 'url_application', 'county_name'], inplace=True)"
   ]
  },
  {
   "cell_type": "code",
   "execution_count": null,
   "metadata": {},
   "outputs": [],
   "source": [
    "admTotal = adm[(adm.year==2017) & (adm.gender=='Total')].copy()\n",
    "admFemale = adm[(adm.year==2017) & (adm.gender=='Female')].copy()\n",
    "admMale = adm[(adm.year==2017) & (adm.gender=='Male')].copy()"
   ]
  },
  {
   "cell_type": "code",
   "execution_count": null,
   "metadata": {},
   "outputs": [],
   "source": [
    "admTotal.drop(columns=['sex', 'number_enrolled_ft', 'number_enrolled_pt', \n",
    "                       'gender', 'year'], inplace=True)\n",
    "admFemale.drop(columns=['sex', 'number_enrolled_ft', 'number_enrolled_pt', \n",
    "                      'number_enrolled_total', 'gender', 'year'], inplace=True)\n",
    "admMale.drop(columns=['sex', 'number_enrolled_ft', 'number_enrolled_pt', \n",
    "                      'number_enrolled_total', 'gender', 'year'], inplace=True)"
   ]
  },
  {
   "cell_type": "code",
   "execution_count": null,
   "metadata": {},
   "outputs": [],
   "source": [
    "# rename cols\n",
    "admTotal.rename(columns={\"number_applied\":\"total_applied\", \n",
    "                        \"number_admitted\":\"total_admitted\", \n",
    "                        \"pct_admitted\": \"pct_admitted_total\", \n",
    "                        \"pct_matriculated\": \"pct_matriculated_total\"}, inplace=True)\n",
    "\n",
    "admFemale.rename(columns={\"number_applied\":\"female_applied\", \n",
    "                        \"number_admitted\":\"female_admitted\", \n",
    "                        \"pct_admitted\": \"pct_admitted_female\", \n",
    "                        \"pct_matriculated\": \"pct_matriculated_female\"}, inplace=True)\n",
    "\n",
    "admMale.rename(columns={\"number_applied\":\"male_applied\", \n",
    "                        \"number_admitted\":\"male_admitted\", \n",
    "                        \"pct_admitted\": \"pct_admitted_male\", \n",
    "                        \"pct_matriculated\": \"pct_matriculated_male\"}, inplace=True)"
   ]
  },
  {
   "cell_type": "code",
   "execution_count": null,
   "metadata": {},
   "outputs": [],
   "source": [
    "nyColleges = nyColleges.merge(admTotal, on='unitid').merge(admFemale, on='unitid').merge(admMale, on='unitid')"
   ]
  },
  {
   "cell_type": "code",
   "execution_count": null,
   "metadata": {},
   "outputs": [],
   "source": [
    "nyColleges = nyColleges.merge(req[req.year==2017], on='unitid')"
   ]
  },
  {
   "cell_type": "code",
   "execution_count": null,
   "metadata": {},
   "outputs": [],
   "source": [
    "nyColleges.columns"
   ]
  },
  {
   "cell_type": "code",
   "execution_count": null,
   "metadata": {},
   "outputs": [],
   "source": [
    "totComp = comp[(comp.subcohort=='Total') \n",
    "               & (comp.institution_level=='Four or more years')].groupby(['unitid', 'gender','race']).mean().reset_index()"
   ]
  },
  {
   "cell_type": "code",
   "execution_count": null,
   "metadata": {},
   "outputs": [],
   "source": [
    "totComp.drop(columns=['fips', 'cohort_year', 'sex', 'cohort_rev', 'exclusions', 'cohort_adj_150pct', \n",
    "             'transfers_out', 'still_enrolled_long_program', 'completers_100pct','completers_150pct',\n",
    "              'still_enrolled', 'no_longer_enrolled', 'year'], inplace=True)"
   ]
  },
  {
   "cell_type": "code",
   "execution_count": null,
   "metadata": {},
   "outputs": [],
   "source": [
    "tot = totComp[(totComp.gender=='Total') & (totComp.race=='Total')][['unitid', 'completion_rate_150pct']].copy()\n",
    "totFemale = totComp[(totComp.gender=='Female') & (totComp.race=='Total')][['unitid', 'completion_rate_150pct']].copy()\n",
    "totMale = totComp[(totComp.gender=='Male') & (totComp.race=='Total')][['unitid', 'completion_rate_150pct']].copy()"
   ]
  },
  {
   "cell_type": "code",
   "execution_count": null,
   "metadata": {},
   "outputs": [],
   "source": [
    "totFemale.rename(columns={'completion_rate_150pct':'female_completion_rate_150pct'}, inplace=True)\n",
    "totMale.rename(columns={'completion_rate_150pct':'male_completion_rate_150pct'}, inplace=True)"
   ]
  },
  {
   "cell_type": "code",
   "execution_count": null,
   "metadata": {},
   "outputs": [],
   "source": [
    "nyColleges = nyColleges.merge(tot, on='unitid').merge(totFemale, on='unitid').merge(totMale, on='unitid')"
   ]
  },
  {
   "cell_type": "code",
   "execution_count": null,
   "metadata": {},
   "outputs": [],
   "source": [
    "aid = aid.groupby(['unitid']).mean().reset_index().copy()"
   ]
  },
  {
   "cell_type": "code",
   "execution_count": null,
   "metadata": {},
   "outputs": [],
   "source": [
    "nyColleges = nyColleges.merge(aid[['unitid', 'first_gen_student_pct', 'faminc_med']], on='unitid')"
   ]
  },
  {
   "cell_type": "code",
   "execution_count": null,
   "metadata": {},
   "outputs": [],
   "source": [
    "# round all values\n",
    "nyColleges['pct_admitted_total'] = round(nyColleges['pct_admitted_total']*100)\n",
    "nyColleges['pct_matriculated_total'] = round(nyColleges['pct_matriculated_total']*100)\n",
    "nyColleges['pct_admitted_female'] = round(nyColleges['pct_admitted_female']*100)\n",
    "nyColleges['pct_matriculated_female'] =round(nyColleges['pct_matriculated_female']*100)\n",
    "nyColleges['pct_admitted_male'] = round(nyColleges['pct_admitted_male']*100)\n",
    "nyColleges['pct_matriculated_male'] =round(nyColleges['pct_matriculated_male']*100)\n",
    "\n",
    "nyColleges['completion_rate_150pct'] = round(nyColleges['completion_rate_150pct']*100)\n",
    "nyColleges['female_completion_rate_150pct'] = round(nyColleges['female_completion_rate_150pct']*100)\n",
    "nyColleges['male_completion_rate_150pct'] = round(nyColleges['male_completion_rate_150pct']*100)\n",
    "\n",
    "nyColleges['first_gen_student_pct'] = round(nyColleges['first_gen_student_pct']*100)\n",
    "nyColleges['faminc_med'] = round(nyColleges['faminc_med'],0)"
   ]
  },
  {
   "cell_type": "code",
   "execution_count": 95,
   "metadata": {},
   "outputs": [],
   "source": [
    "nyColleges.fillna('NA', inplace=True)"
   ]
  },
  {
   "cell_type": "code",
   "execution_count": 96,
   "metadata": {},
   "outputs": [],
   "source": [
    "nyColleges = gpd.GeoDataFrame(nyColleges, geometry=gpd.points_from_xy(nyColleges.geo_longitude,\n",
    "                                                               nyColleges.geo_latitude))\n"
   ]
  },
  {
   "cell_type": "code",
   "execution_count": 97,
   "metadata": {},
   "outputs": [],
   "source": [
    "nyColleges.drop(columns=['geo_latitude', 'geo_longitude', 'index', 'urban_centric_locale', 'opeid',\n",
    "                         'year', 'open_admissions_policy', 'sat_number_submitting','sat_percent_submitting', \n",
    "                         'act_number_submitting','act_percent_submitting', 'act_english_25_pctl',\n",
    "                         'act_english_75_pctl', 'act_math_25_pctl', 'act_math_75_pctl',\n",
    "                         'act_writing_25_pctl','act_writing_75_pctl'], inplace=True)\n"
   ]
  },
  {
   "cell_type": "code",
   "execution_count": 98,
   "metadata": {},
   "outputs": [],
   "source": [
    "nyColleges.to_file(\"data/nyColleges.geojson\", driver=\"GeoJSON\")\n",
    "\n"
   ]
  },
  {
   "cell_type": "code",
   "execution_count": 99,
   "metadata": {},
   "outputs": [
    {
     "data": {
      "text/html": [
       "<div>\n",
       "<style scoped>\n",
       "    .dataframe tbody tr th:only-of-type {\n",
       "        vertical-align: middle;\n",
       "    }\n",
       "\n",
       "    .dataframe tbody tr th {\n",
       "        vertical-align: top;\n",
       "    }\n",
       "\n",
       "    .dataframe thead th {\n",
       "        text-align: right;\n",
       "    }\n",
       "</style>\n",
       "<table border=\"1\" class=\"dataframe\">\n",
       "  <thead>\n",
       "    <tr style=\"text-align: right;\">\n",
       "      <th></th>\n",
       "      <th>unitid</th>\n",
       "      <th>hbcu</th>\n",
       "      <th>land_grant</th>\n",
       "      <th>inst_size</th>\n",
       "      <th>inst_name</th>\n",
       "      <th>address</th>\n",
       "      <th>state_abbr</th>\n",
       "      <th>zip</th>\n",
       "      <th>total_applied</th>\n",
       "      <th>total_admitted</th>\n",
       "      <th>...</th>\n",
       "      <th>act_composite_25_pctl</th>\n",
       "      <th>act_composite_75_pctl</th>\n",
       "      <th>sat_writing_25_pctl</th>\n",
       "      <th>sat_writing_75_pctl</th>\n",
       "      <th>completion_rate_150pct</th>\n",
       "      <th>female_completion_rate_150pct</th>\n",
       "      <th>male_completion_rate_150pct</th>\n",
       "      <th>first_gen_student_pct</th>\n",
       "      <th>faminc_med</th>\n",
       "      <th>geometry</th>\n",
       "    </tr>\n",
       "  </thead>\n",
       "  <tbody>\n",
       "    <tr>\n",
       "      <td>0</td>\n",
       "      <td>188340</td>\n",
       "      <td>No</td>\n",
       "      <td>No</td>\n",
       "      <td>1,000–4,999</td>\n",
       "      <td>Vaughn College of Aeronautics and Technology</td>\n",
       "      <td>86-01 23rd Avenue</td>\n",
       "      <td>NY</td>\n",
       "      <td>11369</td>\n",
       "      <td>NA</td>\n",
       "      <td>NA</td>\n",
       "      <td>...</td>\n",
       "      <td>NA</td>\n",
       "      <td>NA</td>\n",
       "      <td>NA</td>\n",
       "      <td>NA</td>\n",
       "      <td>35.70</td>\n",
       "      <td>54.7</td>\n",
       "      <td>33.55</td>\n",
       "      <td>47.15</td>\n",
       "      <td>20445.0</td>\n",
       "      <td>POINT (-73.88360 40.76730)</td>\n",
       "    </tr>\n",
       "    <tr>\n",
       "      <td>1</td>\n",
       "      <td>188429</td>\n",
       "      <td>No</td>\n",
       "      <td>No</td>\n",
       "      <td>5,000–9,999</td>\n",
       "      <td>Adelphi University</td>\n",
       "      <td>South Ave</td>\n",
       "      <td>NY</td>\n",
       "      <td>11530-0701</td>\n",
       "      <td>11851</td>\n",
       "      <td>8666</td>\n",
       "      <td>...</td>\n",
       "      <td>22</td>\n",
       "      <td>27</td>\n",
       "      <td>NA</td>\n",
       "      <td>NA</td>\n",
       "      <td>67.85</td>\n",
       "      <td>70.5</td>\n",
       "      <td>61.9</td>\n",
       "      <td>34.93</td>\n",
       "      <td>53970.0</td>\n",
       "      <td>POINT (-73.65380 40.72280)</td>\n",
       "    </tr>\n",
       "    <tr>\n",
       "      <td>2</td>\n",
       "      <td>188526</td>\n",
       "      <td>No</td>\n",
       "      <td>No</td>\n",
       "      <td>1,000–4,999</td>\n",
       "      <td>Albany College of Pharmacy and Health Sciences</td>\n",
       "      <td>106 New Scotland Avenue</td>\n",
       "      <td>NY</td>\n",
       "      <td>12208-3492</td>\n",
       "      <td>1366</td>\n",
       "      <td>1073</td>\n",
       "      <td>...</td>\n",
       "      <td>23</td>\n",
       "      <td>28</td>\n",
       "      <td>NA</td>\n",
       "      <td>NA</td>\n",
       "      <td>73.80</td>\n",
       "      <td>70.15</td>\n",
       "      <td>79.35</td>\n",
       "      <td>21.94</td>\n",
       "      <td>77465.0</td>\n",
       "      <td>POINT (-73.77760 42.65250)</td>\n",
       "    </tr>\n",
       "    <tr>\n",
       "      <td>3</td>\n",
       "      <td>188641</td>\n",
       "      <td>No</td>\n",
       "      <td>No</td>\n",
       "      <td>1,000–4,999</td>\n",
       "      <td>Alfred University</td>\n",
       "      <td>One Saxon Drive</td>\n",
       "      <td>NY</td>\n",
       "      <td>14802-1205</td>\n",
       "      <td>3566</td>\n",
       "      <td>2237</td>\n",
       "      <td>...</td>\n",
       "      <td>21</td>\n",
       "      <td>26</td>\n",
       "      <td>NA</td>\n",
       "      <td>NA</td>\n",
       "      <td>57.05</td>\n",
       "      <td>69.6</td>\n",
       "      <td>46.9</td>\n",
       "      <td>24.59</td>\n",
       "      <td>58244.0</td>\n",
       "      <td>POINT (-77.78960 42.25390)</td>\n",
       "    </tr>\n",
       "    <tr>\n",
       "      <td>4</td>\n",
       "      <td>188854</td>\n",
       "      <td>No</td>\n",
       "      <td>No</td>\n",
       "      <td>1,000–4,999</td>\n",
       "      <td>American Musical and Dramatic Academy</td>\n",
       "      <td>211 West 61st Street</td>\n",
       "      <td>NY</td>\n",
       "      <td>10023</td>\n",
       "      <td>9153</td>\n",
       "      <td>1940</td>\n",
       "      <td>...</td>\n",
       "      <td>NA</td>\n",
       "      <td>NA</td>\n",
       "      <td>NA</td>\n",
       "      <td>NA</td>\n",
       "      <td>58.35</td>\n",
       "      <td>56.7</td>\n",
       "      <td>61.45</td>\n",
       "      <td>25.17</td>\n",
       "      <td>48898.0</td>\n",
       "      <td>POINT (-73.98780 40.77210)</td>\n",
       "    </tr>\n",
       "    <tr>\n",
       "      <td>...</td>\n",
       "      <td>...</td>\n",
       "      <td>...</td>\n",
       "      <td>...</td>\n",
       "      <td>...</td>\n",
       "      <td>...</td>\n",
       "      <td>...</td>\n",
       "      <td>...</td>\n",
       "      <td>...</td>\n",
       "      <td>...</td>\n",
       "      <td>...</td>\n",
       "      <td>...</td>\n",
       "      <td>...</td>\n",
       "      <td>...</td>\n",
       "      <td>...</td>\n",
       "      <td>...</td>\n",
       "      <td>...</td>\n",
       "      <td>...</td>\n",
       "      <td>...</td>\n",
       "      <td>...</td>\n",
       "      <td>...</td>\n",
       "      <td>...</td>\n",
       "    </tr>\n",
       "    <tr>\n",
       "      <td>109</td>\n",
       "      <td>197045</td>\n",
       "      <td>No</td>\n",
       "      <td>No</td>\n",
       "      <td>5,000–9,999</td>\n",
       "      <td>Utica College</td>\n",
       "      <td>1600 Burrstone Rd</td>\n",
       "      <td>NY</td>\n",
       "      <td>13502-4892</td>\n",
       "      <td>5656</td>\n",
       "      <td>4732</td>\n",
       "      <td>...</td>\n",
       "      <td>NA</td>\n",
       "      <td>NA</td>\n",
       "      <td>NA</td>\n",
       "      <td>NA</td>\n",
       "      <td>47.20</td>\n",
       "      <td>52.05</td>\n",
       "      <td>41.65</td>\n",
       "      <td>31.69</td>\n",
       "      <td>47574.0</td>\n",
       "      <td>POINT (-75.27240 43.09330)</td>\n",
       "    </tr>\n",
       "    <tr>\n",
       "      <td>110</td>\n",
       "      <td>197133</td>\n",
       "      <td>No</td>\n",
       "      <td>No</td>\n",
       "      <td>1,000–4,999</td>\n",
       "      <td>Vassar College</td>\n",
       "      <td>124 Raymond Ave</td>\n",
       "      <td>NY</td>\n",
       "      <td>12604</td>\n",
       "      <td>7746</td>\n",
       "      <td>1842</td>\n",
       "      <td>...</td>\n",
       "      <td>30</td>\n",
       "      <td>33</td>\n",
       "      <td>NA</td>\n",
       "      <td>NA</td>\n",
       "      <td>90.90</td>\n",
       "      <td>92.55</td>\n",
       "      <td>88.8</td>\n",
       "      <td>14.64</td>\n",
       "      <td>71121.0</td>\n",
       "      <td>POINT (-73.89820 41.68650)</td>\n",
       "    </tr>\n",
       "    <tr>\n",
       "      <td>111</td>\n",
       "      <td>197197</td>\n",
       "      <td>No</td>\n",
       "      <td>No</td>\n",
       "      <td>1,000–4,999</td>\n",
       "      <td>Wagner College</td>\n",
       "      <td>One Campus Rd</td>\n",
       "      <td>NY</td>\n",
       "      <td>10301-4495</td>\n",
       "      <td>2834</td>\n",
       "      <td>1975</td>\n",
       "      <td>...</td>\n",
       "      <td>NA</td>\n",
       "      <td>NA</td>\n",
       "      <td>NA</td>\n",
       "      <td>NA</td>\n",
       "      <td>68.75</td>\n",
       "      <td>74.85</td>\n",
       "      <td>59.1</td>\n",
       "      <td>28.75</td>\n",
       "      <td>77302.0</td>\n",
       "      <td>POINT (-74.09510 40.61350)</td>\n",
       "    </tr>\n",
       "    <tr>\n",
       "      <td>112</td>\n",
       "      <td>197708</td>\n",
       "      <td>No</td>\n",
       "      <td>No</td>\n",
       "      <td>5,000–9,999</td>\n",
       "      <td>Yeshiva University</td>\n",
       "      <td>500 W 185th St</td>\n",
       "      <td>NY</td>\n",
       "      <td>10033-3299</td>\n",
       "      <td>1861</td>\n",
       "      <td>1169</td>\n",
       "      <td>...</td>\n",
       "      <td>23</td>\n",
       "      <td>29</td>\n",
       "      <td>NA</td>\n",
       "      <td>NA</td>\n",
       "      <td>81.70</td>\n",
       "      <td>87.35</td>\n",
       "      <td>75.65</td>\n",
       "      <td>12.49</td>\n",
       "      <td>68319.0</td>\n",
       "      <td>POINT (-73.92980 40.85070)</td>\n",
       "    </tr>\n",
       "    <tr>\n",
       "      <td>113</td>\n",
       "      <td>446604</td>\n",
       "      <td>No</td>\n",
       "      <td>No</td>\n",
       "      <td>1,000–4,999</td>\n",
       "      <td>Uta Mesivta of Kiryas Joel</td>\n",
       "      <td>48 Bakertown Rd Suite 501</td>\n",
       "      <td>NY</td>\n",
       "      <td>10950</td>\n",
       "      <td>NA</td>\n",
       "      <td>NA</td>\n",
       "      <td>...</td>\n",
       "      <td>NA</td>\n",
       "      <td>NA</td>\n",
       "      <td>NA</td>\n",
       "      <td>NA</td>\n",
       "      <td>74.00</td>\n",
       "      <td>NA</td>\n",
       "      <td>74</td>\n",
       "      <td>60.44</td>\n",
       "      <td>16900.0</td>\n",
       "      <td>POINT (-74.16200 41.33420)</td>\n",
       "    </tr>\n",
       "  </tbody>\n",
       "</table>\n",
       "<p>114 rows × 38 columns</p>\n",
       "</div>"
      ],
      "text/plain": [
       "     unitid hbcu land_grant    inst_size  \\\n",
       "0    188340   No         No  1,000–4,999   \n",
       "1    188429   No         No  5,000–9,999   \n",
       "2    188526   No         No  1,000–4,999   \n",
       "3    188641   No         No  1,000–4,999   \n",
       "4    188854   No         No  1,000–4,999   \n",
       "..      ...  ...        ...          ...   \n",
       "109  197045   No         No  5,000–9,999   \n",
       "110  197133   No         No  1,000–4,999   \n",
       "111  197197   No         No  1,000–4,999   \n",
       "112  197708   No         No  5,000–9,999   \n",
       "113  446604   No         No  1,000–4,999   \n",
       "\n",
       "                                          inst_name  \\\n",
       "0      Vaughn College of Aeronautics and Technology   \n",
       "1                                Adelphi University   \n",
       "2    Albany College of Pharmacy and Health Sciences   \n",
       "3                                 Alfred University   \n",
       "4             American Musical and Dramatic Academy   \n",
       "..                                              ...   \n",
       "109                                   Utica College   \n",
       "110                                  Vassar College   \n",
       "111                                  Wagner College   \n",
       "112                              Yeshiva University   \n",
       "113                      Uta Mesivta of Kiryas Joel   \n",
       "\n",
       "                       address state_abbr         zip total_applied  \\\n",
       "0            86-01 23rd Avenue         NY       11369            NA   \n",
       "1                    South Ave         NY  11530-0701         11851   \n",
       "2      106 New Scotland Avenue         NY  12208-3492          1366   \n",
       "3              One Saxon Drive         NY  14802-1205          3566   \n",
       "4         211 West 61st Street         NY       10023          9153   \n",
       "..                         ...        ...         ...           ...   \n",
       "109          1600 Burrstone Rd         NY  13502-4892          5656   \n",
       "110            124 Raymond Ave         NY       12604          7746   \n",
       "111              One Campus Rd         NY  10301-4495          2834   \n",
       "112             500 W 185th St         NY  10033-3299          1861   \n",
       "113  48 Bakertown Rd Suite 501         NY       10950            NA   \n",
       "\n",
       "    total_admitted  ... act_composite_25_pctl act_composite_75_pctl  \\\n",
       "0               NA  ...                    NA                    NA   \n",
       "1             8666  ...                    22                    27   \n",
       "2             1073  ...                    23                    28   \n",
       "3             2237  ...                    21                    26   \n",
       "4             1940  ...                    NA                    NA   \n",
       "..             ...  ...                   ...                   ...   \n",
       "109           4732  ...                    NA                    NA   \n",
       "110           1842  ...                    30                    33   \n",
       "111           1975  ...                    NA                    NA   \n",
       "112           1169  ...                    23                    29   \n",
       "113             NA  ...                    NA                    NA   \n",
       "\n",
       "    sat_writing_25_pctl sat_writing_75_pctl completion_rate_150pct  \\\n",
       "0                    NA                  NA                  35.70   \n",
       "1                    NA                  NA                  67.85   \n",
       "2                    NA                  NA                  73.80   \n",
       "3                    NA                  NA                  57.05   \n",
       "4                    NA                  NA                  58.35   \n",
       "..                  ...                 ...                    ...   \n",
       "109                  NA                  NA                  47.20   \n",
       "110                  NA                  NA                  90.90   \n",
       "111                  NA                  NA                  68.75   \n",
       "112                  NA                  NA                  81.70   \n",
       "113                  NA                  NA                  74.00   \n",
       "\n",
       "    female_completion_rate_150pct male_completion_rate_150pct  \\\n",
       "0                            54.7                       33.55   \n",
       "1                            70.5                        61.9   \n",
       "2                           70.15                       79.35   \n",
       "3                            69.6                        46.9   \n",
       "4                            56.7                       61.45   \n",
       "..                            ...                         ...   \n",
       "109                         52.05                       41.65   \n",
       "110                         92.55                        88.8   \n",
       "111                         74.85                        59.1   \n",
       "112                         87.35                       75.65   \n",
       "113                            NA                          74   \n",
       "\n",
       "    first_gen_student_pct faminc_med                    geometry  \n",
       "0                   47.15    20445.0  POINT (-73.88360 40.76730)  \n",
       "1                   34.93    53970.0  POINT (-73.65380 40.72280)  \n",
       "2                   21.94    77465.0  POINT (-73.77760 42.65250)  \n",
       "3                   24.59    58244.0  POINT (-77.78960 42.25390)  \n",
       "4                   25.17    48898.0  POINT (-73.98780 40.77210)  \n",
       "..                    ...        ...                         ...  \n",
       "109                 31.69    47574.0  POINT (-75.27240 43.09330)  \n",
       "110                 14.64    71121.0  POINT (-73.89820 41.68650)  \n",
       "111                 28.75    77302.0  POINT (-74.09510 40.61350)  \n",
       "112                 12.49    68319.0  POINT (-73.92980 40.85070)  \n",
       "113                 60.44    16900.0  POINT (-74.16200 41.33420)  \n",
       "\n",
       "[114 rows x 38 columns]"
      ]
     },
     "execution_count": 99,
     "metadata": {},
     "output_type": "execute_result"
    }
   ],
   "source": [
    "nyColleges"
   ]
  },
  {
   "cell_type": "markdown",
   "metadata": {},
   "source": [
    "### descriptives of nyCollege dataset"
   ]
  },
  {
   "cell_type": "code",
   "execution_count": 96,
   "metadata": {},
   "outputs": [
    {
     "data": {
      "text/html": [
       "<div>\n",
       "<style scoped>\n",
       "    .dataframe tbody tr th:only-of-type {\n",
       "        vertical-align: middle;\n",
       "    }\n",
       "\n",
       "    .dataframe tbody tr th {\n",
       "        vertical-align: top;\n",
       "    }\n",
       "\n",
       "    .dataframe thead th {\n",
       "        text-align: right;\n",
       "    }\n",
       "</style>\n",
       "<table border=\"1\" class=\"dataframe\">\n",
       "  <thead>\n",
       "    <tr style=\"text-align: right;\">\n",
       "      <th></th>\n",
       "      <th>unitid</th>\n",
       "      <th>total_applied</th>\n",
       "      <th>total_admitted</th>\n",
       "      <th>number_enrolled_total</th>\n",
       "      <th>pct_admitted_total</th>\n",
       "      <th>pct_matriculated_total</th>\n",
       "      <th>female_applied</th>\n",
       "      <th>female_admitted</th>\n",
       "      <th>pct_admitted_female</th>\n",
       "      <th>pct_matriculated_female</th>\n",
       "      <th>...</th>\n",
       "      <th>sat_math_75_pctl</th>\n",
       "      <th>act_composite_25_pctl</th>\n",
       "      <th>act_composite_75_pctl</th>\n",
       "      <th>sat_writing_25_pctl</th>\n",
       "      <th>sat_writing_75_pctl</th>\n",
       "      <th>completion_rate_150pct</th>\n",
       "      <th>female_completion_rate_150pct</th>\n",
       "      <th>male_completion_rate_150pct</th>\n",
       "      <th>first_gen_student_pct</th>\n",
       "      <th>faminc_med</th>\n",
       "    </tr>\n",
       "  </thead>\n",
       "  <tbody>\n",
       "    <tr>\n",
       "      <td>count</td>\n",
       "      <td>114.00000</td>\n",
       "      <td>107.000000</td>\n",
       "      <td>107.000000</td>\n",
       "      <td>107.000000</td>\n",
       "      <td>107.000000</td>\n",
       "      <td>107.000000</td>\n",
       "      <td>107.000000</td>\n",
       "      <td>107.000000</td>\n",
       "      <td>107.000000</td>\n",
       "      <td>107.000000</td>\n",
       "      <td>...</td>\n",
       "      <td>84.000000</td>\n",
       "      <td>75.000000</td>\n",
       "      <td>75.000000</td>\n",
       "      <td>0.0</td>\n",
       "      <td>0.0</td>\n",
       "      <td>114.000000</td>\n",
       "      <td>112.000000</td>\n",
       "      <td>113.000000</td>\n",
       "      <td>112.000000</td>\n",
       "      <td>114.000000</td>\n",
       "    </tr>\n",
       "    <tr>\n",
       "      <td>mean</td>\n",
       "      <td>195741.54386</td>\n",
       "      <td>10292.392523</td>\n",
       "      <td>5130.233645</td>\n",
       "      <td>1066.289720</td>\n",
       "      <td>61.605607</td>\n",
       "      <td>23.954206</td>\n",
       "      <td>5786.887850</td>\n",
       "      <td>2954.411215</td>\n",
       "      <td>62.384112</td>\n",
       "      <td>22.865421</td>\n",
       "      <td>...</td>\n",
       "      <td>624.940476</td>\n",
       "      <td>22.480000</td>\n",
       "      <td>27.293333</td>\n",
       "      <td>NaN</td>\n",
       "      <td>NaN</td>\n",
       "      <td>61.424561</td>\n",
       "      <td>64.222321</td>\n",
       "      <td>57.689381</td>\n",
       "      <td>30.044643</td>\n",
       "      <td>53149.815789</td>\n",
       "    </tr>\n",
       "    <tr>\n",
       "      <td>std</td>\n",
       "      <td>23844.43110</td>\n",
       "      <td>11194.099345</td>\n",
       "      <td>4575.294892</td>\n",
       "      <td>972.744513</td>\n",
       "      <td>20.326355</td>\n",
       "      <td>12.172473</td>\n",
       "      <td>6139.027764</td>\n",
       "      <td>2608.748782</td>\n",
       "      <td>20.525627</td>\n",
       "      <td>12.261761</td>\n",
       "      <td>...</td>\n",
       "      <td>72.757619</td>\n",
       "      <td>3.853254</td>\n",
       "      <td>3.344109</td>\n",
       "      <td>NaN</td>\n",
       "      <td>NaN</td>\n",
       "      <td>18.052380</td>\n",
       "      <td>17.884473</td>\n",
       "      <td>18.561940</td>\n",
       "      <td>11.277665</td>\n",
       "      <td>23468.213880</td>\n",
       "    </tr>\n",
       "    <tr>\n",
       "      <td>min</td>\n",
       "      <td>188340.00000</td>\n",
       "      <td>126.000000</td>\n",
       "      <td>115.000000</td>\n",
       "      <td>99.000000</td>\n",
       "      <td>6.600000</td>\n",
       "      <td>9.100000</td>\n",
       "      <td>77.000000</td>\n",
       "      <td>70.000000</td>\n",
       "      <td>6.100000</td>\n",
       "      <td>0.200000</td>\n",
       "      <td>...</td>\n",
       "      <td>450.000000</td>\n",
       "      <td>17.000000</td>\n",
       "      <td>21.000000</td>\n",
       "      <td>NaN</td>\n",
       "      <td>NaN</td>\n",
       "      <td>12.300000</td>\n",
       "      <td>14.100000</td>\n",
       "      <td>8.100000</td>\n",
       "      <td>10.800000</td>\n",
       "      <td>14737.000000</td>\n",
       "    </tr>\n",
       "    <tr>\n",
       "      <td>25%</td>\n",
       "      <td>190816.50000</td>\n",
       "      <td>3095.000000</td>\n",
       "      <td>1957.500000</td>\n",
       "      <td>439.500000</td>\n",
       "      <td>46.950000</td>\n",
       "      <td>17.000000</td>\n",
       "      <td>1931.000000</td>\n",
       "      <td>1266.000000</td>\n",
       "      <td>49.400000</td>\n",
       "      <td>15.800000</td>\n",
       "      <td>...</td>\n",
       "      <td>570.000000</td>\n",
       "      <td>20.000000</td>\n",
       "      <td>25.000000</td>\n",
       "      <td>NaN</td>\n",
       "      <td>NaN</td>\n",
       "      <td>49.650000</td>\n",
       "      <td>53.400000</td>\n",
       "      <td>44.000000</td>\n",
       "      <td>21.050000</td>\n",
       "      <td>34839.500000</td>\n",
       "    </tr>\n",
       "    <tr>\n",
       "      <td>50%</td>\n",
       "      <td>193936.50000</td>\n",
       "      <td>6207.000000</td>\n",
       "      <td>3553.000000</td>\n",
       "      <td>698.000000</td>\n",
       "      <td>63.900000</td>\n",
       "      <td>21.300000</td>\n",
       "      <td>3347.000000</td>\n",
       "      <td>2015.000000</td>\n",
       "      <td>65.100000</td>\n",
       "      <td>20.900000</td>\n",
       "      <td>...</td>\n",
       "      <td>620.000000</td>\n",
       "      <td>22.000000</td>\n",
       "      <td>27.000000</td>\n",
       "      <td>NaN</td>\n",
       "      <td>NaN</td>\n",
       "      <td>63.200000</td>\n",
       "      <td>66.600000</td>\n",
       "      <td>59.300000</td>\n",
       "      <td>29.250000</td>\n",
       "      <td>51816.000000</td>\n",
       "    </tr>\n",
       "    <tr>\n",
       "      <td>75%</td>\n",
       "      <td>196074.25000</td>\n",
       "      <td>12538.000000</td>\n",
       "      <td>6180.000000</td>\n",
       "      <td>1360.500000</td>\n",
       "      <td>77.050000</td>\n",
       "      <td>25.800000</td>\n",
       "      <td>7128.500000</td>\n",
       "      <td>3711.000000</td>\n",
       "      <td>77.700000</td>\n",
       "      <td>24.450000</td>\n",
       "      <td>...</td>\n",
       "      <td>660.000000</td>\n",
       "      <td>24.000000</td>\n",
       "      <td>29.000000</td>\n",
       "      <td>NaN</td>\n",
       "      <td>NaN</td>\n",
       "      <td>73.750000</td>\n",
       "      <td>77.325000</td>\n",
       "      <td>71.200000</td>\n",
       "      <td>37.050000</td>\n",
       "      <td>71372.250000</td>\n",
       "    </tr>\n",
       "    <tr>\n",
       "      <td>max</td>\n",
       "      <td>446604.00000</td>\n",
       "      <td>64007.000000</td>\n",
       "      <td>20966.000000</td>\n",
       "      <td>6022.000000</td>\n",
       "      <td>98.400000</td>\n",
       "      <td>86.100000</td>\n",
       "      <td>37650.000000</td>\n",
       "      <td>12771.000000</td>\n",
       "      <td>98.900000</td>\n",
       "      <td>85.700000</td>\n",
       "      <td>...</td>\n",
       "      <td>790.000000</td>\n",
       "      <td>31.000000</td>\n",
       "      <td>34.000000</td>\n",
       "      <td>NaN</td>\n",
       "      <td>NaN</td>\n",
       "      <td>94.600000</td>\n",
       "      <td>95.600000</td>\n",
       "      <td>94.200000</td>\n",
       "      <td>60.400000</td>\n",
       "      <td>115342.000000</td>\n",
       "    </tr>\n",
       "  </tbody>\n",
       "</table>\n",
       "<p>8 rows × 27 columns</p>\n",
       "</div>"
      ],
      "text/plain": [
       "             unitid  total_applied  total_admitted  number_enrolled_total  \\\n",
       "count     114.00000     107.000000      107.000000             107.000000   \n",
       "mean   195741.54386   10292.392523     5130.233645            1066.289720   \n",
       "std     23844.43110   11194.099345     4575.294892             972.744513   \n",
       "min    188340.00000     126.000000      115.000000              99.000000   \n",
       "25%    190816.50000    3095.000000     1957.500000             439.500000   \n",
       "50%    193936.50000    6207.000000     3553.000000             698.000000   \n",
       "75%    196074.25000   12538.000000     6180.000000            1360.500000   \n",
       "max    446604.00000   64007.000000    20966.000000            6022.000000   \n",
       "\n",
       "       pct_admitted_total  pct_matriculated_total  female_applied  \\\n",
       "count          107.000000              107.000000      107.000000   \n",
       "mean            61.605607               23.954206     5786.887850   \n",
       "std             20.326355               12.172473     6139.027764   \n",
       "min              6.600000                9.100000       77.000000   \n",
       "25%             46.950000               17.000000     1931.000000   \n",
       "50%             63.900000               21.300000     3347.000000   \n",
       "75%             77.050000               25.800000     7128.500000   \n",
       "max             98.400000               86.100000    37650.000000   \n",
       "\n",
       "       female_admitted  pct_admitted_female  pct_matriculated_female  ...  \\\n",
       "count       107.000000           107.000000               107.000000  ...   \n",
       "mean       2954.411215            62.384112                22.865421  ...   \n",
       "std        2608.748782            20.525627                12.261761  ...   \n",
       "min          70.000000             6.100000                 0.200000  ...   \n",
       "25%        1266.000000            49.400000                15.800000  ...   \n",
       "50%        2015.000000            65.100000                20.900000  ...   \n",
       "75%        3711.000000            77.700000                24.450000  ...   \n",
       "max       12771.000000            98.900000                85.700000  ...   \n",
       "\n",
       "       sat_math_75_pctl  act_composite_25_pctl  act_composite_75_pctl  \\\n",
       "count         84.000000              75.000000              75.000000   \n",
       "mean         624.940476              22.480000              27.293333   \n",
       "std           72.757619               3.853254               3.344109   \n",
       "min          450.000000              17.000000              21.000000   \n",
       "25%          570.000000              20.000000              25.000000   \n",
       "50%          620.000000              22.000000              27.000000   \n",
       "75%          660.000000              24.000000              29.000000   \n",
       "max          790.000000              31.000000              34.000000   \n",
       "\n",
       "       sat_writing_25_pctl  sat_writing_75_pctl  completion_rate_150pct  \\\n",
       "count                  0.0                  0.0              114.000000   \n",
       "mean                   NaN                  NaN               61.424561   \n",
       "std                    NaN                  NaN               18.052380   \n",
       "min                    NaN                  NaN               12.300000   \n",
       "25%                    NaN                  NaN               49.650000   \n",
       "50%                    NaN                  NaN               63.200000   \n",
       "75%                    NaN                  NaN               73.750000   \n",
       "max                    NaN                  NaN               94.600000   \n",
       "\n",
       "       female_completion_rate_150pct  male_completion_rate_150pct  \\\n",
       "count                     112.000000                   113.000000   \n",
       "mean                       64.222321                    57.689381   \n",
       "std                        17.884473                    18.561940   \n",
       "min                        14.100000                     8.100000   \n",
       "25%                        53.400000                    44.000000   \n",
       "50%                        66.600000                    59.300000   \n",
       "75%                        77.325000                    71.200000   \n",
       "max                        95.600000                    94.200000   \n",
       "\n",
       "       first_gen_student_pct     faminc_med  \n",
       "count             112.000000     114.000000  \n",
       "mean               30.044643   53149.815789  \n",
       "std                11.277665   23468.213880  \n",
       "min                10.800000   14737.000000  \n",
       "25%                21.050000   34839.500000  \n",
       "50%                29.250000   51816.000000  \n",
       "75%                37.050000   71372.250000  \n",
       "max                60.400000  115342.000000  \n",
       "\n",
       "[8 rows x 27 columns]"
      ]
     },
     "execution_count": 96,
     "metadata": {},
     "output_type": "execute_result"
    }
   ],
   "source": [
    "nyColleges.describe()"
   ]
  },
  {
   "cell_type": "code",
   "execution_count": 97,
   "metadata": {},
   "outputs": [
    {
     "data": {
      "text/plain": [
       "Index(['unitid', 'hbcu', 'land_grant', 'inst_size', 'inst_name', 'address',\n",
       "       'state_abbr', 'zip', 'total_applied', 'total_admitted',\n",
       "       'number_enrolled_total', 'pct_admitted_total', 'pct_matriculated_total',\n",
       "       'female_applied', 'female_admitted', 'pct_admitted_female',\n",
       "       'pct_matriculated_female', 'male_applied', 'male_admitted',\n",
       "       'pct_admitted_male', 'pct_matriculated_male', 'reqt_test_scores',\n",
       "       'reqt_hs_gpa', 'reqt_recommendations', 'sat_crit_read_25_pctl',\n",
       "       'sat_crit_read_75_pctl', 'sat_math_25_pctl', 'sat_math_75_pctl',\n",
       "       'act_composite_25_pctl', 'act_composite_75_pctl', 'sat_writing_25_pctl',\n",
       "       'sat_writing_75_pctl', 'completion_rate_150pct',\n",
       "       'female_completion_rate_150pct', 'male_completion_rate_150pct',\n",
       "       'first_gen_student_pct', 'faminc_med', 'geometry'],\n",
       "      dtype='object')"
      ]
     },
     "execution_count": 97,
     "metadata": {},
     "output_type": "execute_result"
    }
   ],
   "source": [
    "nyColleges.columns"
   ]
  },
  {
   "cell_type": "code",
   "execution_count": 98,
   "metadata": {},
   "outputs": [
    {
     "data": {
      "text/plain": [
       "1,000–4,999         65\n",
       "5,000–9,999         23\n",
       "10,000–19,999       18\n",
       "20,000 and above     8\n",
       "Name: inst_size, dtype: int64"
      ]
     },
     "execution_count": 98,
     "metadata": {},
     "output_type": "execute_result"
    }
   ],
   "source": [
    "nyColleges.inst_size.value_counts()"
   ]
  },
  {
   "cell_type": "code",
   "execution_count": 99,
   "metadata": {},
   "outputs": [
    {
     "name": "stderr",
     "output_type": "stream",
     "text": [
      "/home/cusp/yg833/.conda/envs/yelpVE/lib/python3.7/site-packages/numpy/lib/histograms.py:829: RuntimeWarning: invalid value encountered in greater_equal\n",
      "  keep = (tmp_a >= first_edge)\n",
      "/home/cusp/yg833/.conda/envs/yelpVE/lib/python3.7/site-packages/numpy/lib/histograms.py:830: RuntimeWarning: invalid value encountered in less_equal\n",
      "  keep &= (tmp_a <= last_edge)\n"
     ]
    },
    {
     "data": {
      "text/plain": [
       "(array([54., 26.,  9.,  7.,  4.,  4.,  0.,  2.,  0.,  1.]),\n",
       " array([  126. ,  6514.1, 12902.2, 19290.3, 25678.4, 32066.5, 38454.6,\n",
       "        44842.7, 51230.8, 57618.9, 64007. ]),\n",
       " <a list of 10 Patch objects>)"
      ]
     },
     "execution_count": 99,
     "metadata": {},
     "output_type": "execute_result"
    },
    {
     "data": {
      "image/png": "[encoded data removed]",
      "text/plain": [
       "<Figure size 432x288 with 1 Axes>"
      ]
     },
     "metadata": {
      "needs_background": "light"
     },
     "output_type": "display_data"
    }
   ],
   "source": [
    "plt.hist(nyColleges.total_applied)"
   ]
  },
  {
   "cell_type": "code",
   "execution_count": 100,
   "metadata": {},
   "outputs": [
    {
     "data": {
      "text/plain": [
       "(array([51., 25., 18.,  3.,  4.,  4.,  1.,  0.,  0.,  1.]),\n",
       " array([  99. ,  691.3, 1283.6, 1875.9, 2468.2, 3060.5, 3652.8, 4245.1,\n",
       "        4837.4, 5429.7, 6022. ]),\n",
       " <a list of 10 Patch objects>)"
      ]
     },
     "execution_count": 100,
     "metadata": {},
     "output_type": "execute_result"
    },
    {
     "data": {
      "image/png": "[encoded data removed]",
      "text/plain": [
       "<Figure size 432x288 with 1 Axes>"
      ]
     },
     "metadata": {
      "needs_background": "light"
     },
     "output_type": "display_data"
    }
   ],
   "source": [
    "plt.hist(nyColleges.number_enrolled_total)"
   ]
  },
  {
   "cell_type": "code",
   "execution_count": 101,
   "metadata": {},
   "outputs": [
    {
     "data": {
      "text/plain": [
       "(array([ 3.,  4.,  3., 12., 10., 14., 24., 20.,  8.,  9.]),\n",
       " array([ 6.6 , 15.78, 24.96, 34.14, 43.32, 52.5 , 61.68, 70.86, 80.04,\n",
       "        89.22, 98.4 ]),\n",
       " <a list of 10 Patch objects>)"
      ]
     },
     "execution_count": 101,
     "metadata": {},
     "output_type": "execute_result"
    },
    {
     "data": {
      "image/png": "[encoded data removed]",
      "text/plain": [
       "<Figure size 432x288 with 1 Axes>"
      ]
     },
     "metadata": {
      "needs_background": "light"
     },
     "output_type": "display_data"
    }
   ],
   "source": [
    "plt.hist(nyColleges.pct_admitted_total)"
   ]
  },
  {
   "cell_type": "code",
   "execution_count": 102,
   "metadata": {},
   "outputs": [
    {
     "data": {
      "text/plain": [
       "(array([ 3.,  3.,  5.,  5., 19., 15., 19., 21., 13.,  9.]),\n",
       " array([14.1 , 22.25, 30.4 , 38.55, 46.7 , 54.85, 63.  , 71.15, 79.3 ,\n",
       "        87.45, 95.6 ]),\n",
       " <a list of 10 Patch objects>)"
      ]
     },
     "execution_count": 102,
     "metadata": {},
     "output_type": "execute_result"
    },
    {
     "data": {
      "image/png": "[encoded data removed]",
      "text/plain": [
       "<Figure size 432x288 with 1 Axes>"
      ]
     },
     "metadata": {
      "needs_background": "light"
     },
     "output_type": "display_data"
    }
   ],
   "source": [
    "plt.hist(nyColleges.female_completion_rate_150pct)"
   ]
  },
  {
   "cell_type": "code",
   "execution_count": 103,
   "metadata": {},
   "outputs": [
    {
     "data": {
      "text/plain": [
       "(array([ 3.,  3.,  4., 14., 17., 17., 20., 17., 12.,  6.]),\n",
       " array([ 8.1 , 16.71, 25.32, 33.93, 42.54, 51.15, 59.76, 68.37, 76.98,\n",
       "        85.59, 94.2 ]),\n",
       " <a list of 10 Patch objects>)"
      ]
     },
     "execution_count": 103,
     "metadata": {},
     "output_type": "execute_result"
    },
    {
     "data": {
      "image/png": "[encoded data removed]",
      "text/plain": [
       "<Figure size 432x288 with 1 Axes>"
      ]
     },
     "metadata": {
      "needs_background": "light"
     },
     "output_type": "display_data"
    }
   ],
   "source": [
    "plt.hist(nyColleges.male_completion_rate_150pct)"
   ]
  },
  {
   "cell_type": "code",
   "execution_count": 104,
   "metadata": {},
   "outputs": [
    {
     "data": {
      "text/plain": [
       "(array([ 3.,  2.,  7.,  7., 18., 18., 17., 21., 14.,  7.]),\n",
       " array([12.3 , 20.53, 28.76, 36.99, 45.22, 53.45, 61.68, 69.91, 78.14,\n",
       "        86.37, 94.6 ]),\n",
       " <a list of 10 Patch objects>)"
      ]
     },
     "execution_count": 104,
     "metadata": {},
     "output_type": "execute_result"
    },
    {
     "data": {
      "image/png": "[encoded data removed]",
      "text/plain": [
       "<Figure size 432x288 with 1 Axes>"
      ]
     },
     "metadata": {
      "needs_background": "light"
     },
     "output_type": "display_data"
    }
   ],
   "source": [
    "plt.hist(nyColleges.completion_rate_150pct)"
   ]
  },
  {
   "cell_type": "code",
   "execution_count": 105,
   "metadata": {},
   "outputs": [
    {
     "data": {
      "text/plain": [
       "count    114.000000\n",
       "mean      61.424561\n",
       "std       18.052380\n",
       "min       12.300000\n",
       "25%       49.650000\n",
       "50%       63.200000\n",
       "75%       73.750000\n",
       "max       94.600000\n",
       "Name: completion_rate_150pct, dtype: float64"
      ]
     },
     "execution_count": 105,
     "metadata": {},
     "output_type": "execute_result"
    }
   ],
   "source": [
    "nyColleges.completion_rate_150pct.describe()"
   ]
  }
 ],
 "metadata": {
  "kernelspec": {
   "display_name": "Python 3",
   "language": "python",
   "name": "python3"
  },
  "language_info": {
   "codemirror_mode": {
    "name": "ipython",
    "version": 3
   },
   "file_extension": ".py",
   "mimetype": "text/x-python",
   "name": "python",
   "nbconvert_exporter": "python",
   "pygments_lexer": "ipython3",
   "version": "3.7.4"
  }
 },
 "nbformat": 4,
 "nbformat_minor": 2
}
