{
 "cells": [
  {
   "cell_type": "markdown",
   "metadata": {},
   "source": [
    "### prepDataForCollegeMap\n",
    "documentation: https://educationdata.urban.org/documentation/colleges.html#nhgis-geographic-variables-2010-census-geographies"
   ]
  },
  {
   "cell_type": "code",
   "execution_count": 1,
   "metadata": {},
   "outputs": [],
   "source": [
    "import pandas as pd\n",
    "import numpy as np\n",
    "import geopandas as gpd\n",
    "from shapely.geometry import Point\n"
   ]
  },
  {
   "cell_type": "code",
   "execution_count": 2,
   "metadata": {},
   "outputs": [],
   "source": [
    "geo = pd.read_csv('data/stag_college_geo.csv')\n",
    "dire = pd.read_csv('data/stag_college_info.csv',low_memory=False)\n",
    "adm = pd.read_csv('data/stag_college_admissions.csv')\n",
    "req = pd.read_csv('data/stag_college_admissions_req.csv')\n",
    "comp = pd.read_csv('data/stag_college_completers.csv')\n",
    "aid = pd.read_csv('data/stag_college_student_info.csv')"
   ]
  },
  {
   "cell_type": "markdown",
   "metadata": {},
   "source": [
    "### check geo df"
   ]
  },
  {
   "cell_type": "code",
   "execution_count": 3,
   "metadata": {},
   "outputs": [
    {
     "data": {
      "text/plain": [
       "Index(['census_region', 'census_division', 'class_code', 'fips',\n",
       "       'state_fips_geo', 'year', 'unitid', 'opeid', 'inst_name', 'address',\n",
       "       'state_abbr', 'zip', 'county_fips', 'county_name', 'geo_longitude',\n",
       "       'geo_latitude', 'geocode_accuracy', 'geocode_accuracy_detailed',\n",
       "       'county_fips_geo', 'tract', 'block_group', 'puma', 'geoid_block',\n",
       "       'msa_cmsa', 'place_fips', 'geoid_place', 'place_name', 'upper_chamber',\n",
       "       'state_leg_district_upper', 'upper_chamber_name', 'lower_chamber',\n",
       "       'state_leg_district_lower', 'lower_chamber_name'],\n",
       "      dtype='object')"
      ]
     },
     "execution_count": 3,
     "metadata": {},
     "output_type": "execute_result"
    }
   ],
   "source": [
    "geo.columns"
   ]
  },
  {
   "cell_type": "code",
   "execution_count": 4,
   "metadata": {},
   "outputs": [],
   "source": [
    "geo.drop(columns=['census_region', 'census_division', 'class_code', 'fips', 'state_fips_geo', 'year',\n",
    "                  'county_fips', 'geocode_accuracy', 'geocode_accuracy_detailed','county_fips_geo', 'tract',\n",
    "                  'block_group', 'puma', 'geoid_block','msa_cmsa', 'place_fips', 'geoid_place', 'place_name',\n",
    "                  'upper_chamber','state_leg_district_upper', 'upper_chamber_name', 'lower_chamber',\n",
    "                  'state_leg_district_lower', 'lower_chamber_name'], inplace=True)"
   ]
  },
  {
   "cell_type": "code",
   "execution_count": 5,
   "metadata": {},
   "outputs": [
    {
     "data": {
      "text/html": [
       "<div>\n",
       "<style scoped>\n",
       "    .dataframe tbody tr th:only-of-type {\n",
       "        vertical-align: middle;\n",
       "    }\n",
       "\n",
       "    .dataframe tbody tr th {\n",
       "        vertical-align: top;\n",
       "    }\n",
       "\n",
       "    .dataframe thead th {\n",
       "        text-align: right;\n",
       "    }\n",
       "</style>\n",
       "<table border=\"1\" class=\"dataframe\">\n",
       "  <thead>\n",
       "    <tr style=\"text-align: right;\">\n",
       "      <th></th>\n",
       "      <th>unitid</th>\n",
       "      <th>opeid</th>\n",
       "      <th>inst_name</th>\n",
       "      <th>address</th>\n",
       "      <th>state_abbr</th>\n",
       "      <th>zip</th>\n",
       "      <th>county_name</th>\n",
       "      <th>geo_longitude</th>\n",
       "      <th>geo_latitude</th>\n",
       "    </tr>\n",
       "  </thead>\n",
       "  <tbody>\n",
       "    <tr>\n",
       "      <td>0</td>\n",
       "      <td>100654</td>\n",
       "      <td>00100200</td>\n",
       "      <td>Alabama A &amp; M University</td>\n",
       "      <td>4900 Meridian Street</td>\n",
       "      <td>AL</td>\n",
       "      <td>35762</td>\n",
       "      <td>Madison County</td>\n",
       "      <td>-86.5723</td>\n",
       "      <td>34.7838</td>\n",
       "    </tr>\n",
       "    <tr>\n",
       "      <td>1</td>\n",
       "      <td>100663</td>\n",
       "      <td>00105200</td>\n",
       "      <td>University of Alabama at Birmingham</td>\n",
       "      <td>Administration Bldg Suite 1070</td>\n",
       "      <td>AL</td>\n",
       "      <td>35294-0110</td>\n",
       "      <td>Jefferson County</td>\n",
       "      <td>-86.8121</td>\n",
       "      <td>33.5059</td>\n",
       "    </tr>\n",
       "    <tr>\n",
       "      <td>2</td>\n",
       "      <td>100690</td>\n",
       "      <td>02503400</td>\n",
       "      <td>Amridge University</td>\n",
       "      <td>1200 Taylor Rd</td>\n",
       "      <td>AL</td>\n",
       "      <td>36117-3553</td>\n",
       "      <td>Montgomery County</td>\n",
       "      <td>-86.1715</td>\n",
       "      <td>32.3640</td>\n",
       "    </tr>\n",
       "    <tr>\n",
       "      <td>3</td>\n",
       "      <td>100706</td>\n",
       "      <td>00105500</td>\n",
       "      <td>University of Alabama in Huntsville</td>\n",
       "      <td>301 Sparkman Dr</td>\n",
       "      <td>AL</td>\n",
       "      <td>35899</td>\n",
       "      <td>Madison County</td>\n",
       "      <td>-86.6440</td>\n",
       "      <td>34.7235</td>\n",
       "    </tr>\n",
       "    <tr>\n",
       "      <td>4</td>\n",
       "      <td>100724</td>\n",
       "      <td>00100500</td>\n",
       "      <td>Alabama State University</td>\n",
       "      <td>915 S Jackson Street</td>\n",
       "      <td>AL</td>\n",
       "      <td>36104-0271</td>\n",
       "      <td>Montgomery County</td>\n",
       "      <td>-86.2961</td>\n",
       "      <td>32.3660</td>\n",
       "    </tr>\n",
       "  </tbody>\n",
       "</table>\n",
       "</div>"
      ],
      "text/plain": [
       "   unitid     opeid                            inst_name  \\\n",
       "0  100654  00100200             Alabama A & M University   \n",
       "1  100663  00105200  University of Alabama at Birmingham   \n",
       "2  100690  02503400                   Amridge University   \n",
       "3  100706  00105500  University of Alabama in Huntsville   \n",
       "4  100724  00100500             Alabama State University   \n",
       "\n",
       "                          address state_abbr         zip        county_name  \\\n",
       "0            4900 Meridian Street         AL       35762     Madison County   \n",
       "1  Administration Bldg Suite 1070         AL  35294-0110   Jefferson County   \n",
       "2                  1200 Taylor Rd         AL  36117-3553  Montgomery County   \n",
       "3                 301 Sparkman Dr         AL       35899     Madison County   \n",
       "4            915 S Jackson Street         AL  36104-0271  Montgomery County   \n",
       "\n",
       "   geo_longitude  geo_latitude  \n",
       "0       -86.5723       34.7838  \n",
       "1       -86.8121       33.5059  \n",
       "2       -86.1715       32.3640  \n",
       "3       -86.6440       34.7235  \n",
       "4       -86.2961       32.3660  "
      ]
     },
     "execution_count": 5,
     "metadata": {},
     "output_type": "execute_result"
    }
   ],
   "source": [
    "geo.head()"
   ]
  },
  {
   "cell_type": "code",
   "execution_count": 6,
   "metadata": {},
   "outputs": [
    {
     "data": {
      "text/plain": [
       "7144"
      ]
     },
     "execution_count": 6,
     "metadata": {},
     "output_type": "execute_result"
    }
   ],
   "source": [
    "len(geo)"
   ]
  },
  {
   "cell_type": "code",
   "execution_count": 7,
   "metadata": {},
   "outputs": [
    {
     "data": {
      "text/plain": [
       "7144"
      ]
     },
     "execution_count": 7,
     "metadata": {},
     "output_type": "execute_result"
    }
   ],
   "source": [
    "len(geo.unitid.unique())"
   ]
  },
  {
   "cell_type": "markdown",
   "metadata": {},
   "source": [
    "### college info"
   ]
  },
  {
   "cell_type": "code",
   "execution_count": 8,
   "metadata": {},
   "outputs": [
    {
     "data": {
      "text/plain": [
       "Index(['year', 'fips', 'unitid', 'inst_name', 'address', 'state_abbr', 'zip',\n",
       "       'phone_number', 'city', 'county_name', 'offering_highest_level',\n",
       "       'region', 'inst_control', 'institution_level', 'sector',\n",
       "       'chief_admin_name', 'chief_admin_title', 'hbcu',\n",
       "       'primarily_postsecondary', 'hospital', 'medical_degree',\n",
       "       'tribal_college', 'ein', 'urban_centric_locale', 'opeid',\n",
       "       'offering_highest_degree', 'currently_active_ipeds', 'date_closed',\n",
       "       'duns', 'title_iv_indicator', 'offering_undergrad', 'offering_grad',\n",
       "       'newid', 'year_deleted', 'url_school', 'degree_granting', 'open_public',\n",
       "       'postsec_public_active', 'postsec_public_active_title_iv',\n",
       "       'inst_system_flag', 'inst_system_name', 'reporting_method',\n",
       "       'inst_category', 'land_grant', 'inst_size', 'inst_alias', 'url_fin_aid',\n",
       "       'url_application', 'cbsa', 'cbsa_type', 'csa', 'necta',\n",
       "       'comparison_group', 'longitude', 'latitude', 'county_fips',\n",
       "       'congress_district_id', 'cc_basic_2010', 'cc_instruc_undergrad_2010',\n",
       "       'cc_instruc_grad_2010', 'cc_undergrad_2010', 'cc_enroll_2010',\n",
       "       'cc_size_setting_2010', 'cc_basic_2000', 'url_netprice',\n",
       "       'comparison_group_custom', 'url_veterans', 'url_athletes',\n",
       "       'cc_basic_2015', 'cc_instruc_undergrad_2015', 'cc_instruc_grad_2015',\n",
       "       'cc_undergrad_2015', 'cc_enroll_2015', 'cc_size_setting_2015',\n",
       "       'url_disability_services', 'inst_status'],\n",
       "      dtype='object')"
      ]
     },
     "execution_count": 8,
     "metadata": {},
     "output_type": "execute_result"
    }
   ],
   "source": [
    "dire.columns"
   ]
  },
  {
   "cell_type": "code",
   "execution_count": 9,
   "metadata": {},
   "outputs": [],
   "source": [
    "dire.drop(columns=['fips', 'inst_name', 'address', 'state_abbr', 'zip',\n",
    "                   'phone_number', 'city', 'county_name', \n",
    "                   'region', 'inst_control', 'institution_level', \n",
    "                   'chief_admin_name', 'chief_admin_title', \n",
    "                   'primarily_postsecondary', 'hospital', 'medical_degree',\n",
    "                   'tribal_college', 'ein','offering_highest_level',\n",
    "                   'offering_highest_degree', 'currently_active_ipeds', 'date_closed',\n",
    "                   'duns', 'title_iv_indicator', 'offering_undergrad', 'offering_grad',\n",
    "                   'newid', 'year_deleted', 'url_school', 'degree_granting', 'open_public',\n",
    "                   'postsec_public_active', 'postsec_public_active_title_iv',\n",
    "                   'inst_system_flag', 'inst_system_name', 'reporting_method',\n",
    "                   'inst_category','inst_alias', 'url_fin_aid',\n",
    "                   'cbsa', 'cbsa_type', 'csa', 'necta',\n",
    "                   'comparison_group', 'longitude', 'latitude', 'county_fips',\n",
    "                   'congress_district_id', 'cc_basic_2010', 'cc_instruc_undergrad_2010',\n",
    "                   'cc_instruc_grad_2010', 'cc_undergrad_2010', 'cc_enroll_2010',\n",
    "                   'cc_size_setting_2010', 'cc_basic_2000', 'url_netprice',\n",
    "                   'comparison_group_custom', 'url_veterans', 'url_athletes',\n",
    "                   'cc_basic_2015', 'cc_instruc_undergrad_2015', 'cc_instruc_grad_2015',\n",
    "                   'cc_undergrad_2015', 'cc_enroll_2015', 'cc_size_setting_2015',\n",
    "                   'url_disability_services', 'inst_status'], inplace=True)"
   ]
  },
  {
   "cell_type": "code",
   "execution_count": 10,
   "metadata": {},
   "outputs": [],
   "source": [
    "dcols = ['sector', 'hbcu', 'urban_centric_locale', 'land_grant', 'inst_size', 'url_application']"
   ]
  },
  {
   "cell_type": "code",
   "execution_count": 11,
   "metadata": {},
   "outputs": [],
   "source": [
    "dire[dcols] = dire[dcols].replace({-1:np.nan, -2:np.nan, -3:np.nan})"
   ]
  },
  {
   "cell_type": "code",
   "execution_count": 12,
   "metadata": {},
   "outputs": [],
   "source": [
    "dire['sector'] = dire['sector'].replace({0:\"Administrative unit\",\n",
    "                                         1:\"Public, four-year or above\",\n",
    "                                         2:\"Private not-for-profit, four-year or above\",\n",
    "                                         3:\"Private for-profit, four-year or above\", \n",
    "                                         4:\"Public, two-year\", \n",
    "                                         5:\"Private not-for-profit, two-year\", \n",
    "                                         6:\"Private for-profit, two-year\", \n",
    "                                         7:\"Public, less-than two-year\", \n",
    "                                         8:\"Private not-for-profit, less-than-two-year\", \n",
    "                                         9:\"Private for-profit, less-than-two-year\", \n",
    "                                        np.nan:\"Unreported\"})"
   ]
  },
  {
   "cell_type": "code",
   "execution_count": 13,
   "metadata": {},
   "outputs": [],
   "source": [
    "dire['hbcu'] = dire['hbcu'].replace({0:\"No\", 1:\"Yes\"})"
   ]
  },
  {
   "cell_type": "code",
   "execution_count": 14,
   "metadata": {},
   "outputs": [],
   "source": [
    "dire['urban_centric_locale']=dire['urban_centric_locale'].replace({1:\"Large city\", \n",
    "                                                                  2:\"Midsize city\", \n",
    "                                                                  3:\"Urban fringe of large city\", \n",
    "                                                                  4:\"Urban fringe of midsize city\", \n",
    "                                                                  5:\"Large town\", \n",
    "                                                                  6:\"Small town\", \n",
    "                                                                  7:\"Rural\", \n",
    "                                                                  8:\"Rural\", \n",
    "                                                                  9:\"Not assigned\", \n",
    "                                                                  11:\"Large city\", \n",
    "                                                                  12:\"Midsize city\",\n",
    "                                                                  13:\"Small city\",\n",
    "                                                                  21:\"Suburb\",\n",
    "                                                                  22:\"Suburb\",\n",
    "                                                                  23:\"Suburb\",\n",
    "                                                                  31:\"Town\",\n",
    "                                                                  32:\"Town\", \n",
    "                                                                  33:\"Town\",\n",
    "                                                                  41:\"Rural\",\n",
    "                                                                  42:\"Rural\",\n",
    "                                                                  43:\"Rural\"})"
   ]
  },
  {
   "cell_type": "code",
   "execution_count": 15,
   "metadata": {},
   "outputs": [],
   "source": [
    "dire['land_grant'] = dire['land_grant'].replace({0:\"No\", 1:\"Yes\"})"
   ]
  },
  {
   "cell_type": "code",
   "execution_count": 16,
   "metadata": {},
   "outputs": [],
   "source": [
    "dire['inst_size'] = dire['inst_size'].replace({1:\"Under 1,000\", 2:\"1,000–4,999\", 3:\"5,000–9,999\", \n",
    "                                               4:\"10,000–19,999\", 5:\"20,000 and above\"})"
   ]
  },
  {
   "cell_type": "code",
   "execution_count": 17,
   "metadata": {},
   "outputs": [],
   "source": [
    "geo = dire.merge(geo, on=['unitid','opeid'])\n",
    "geo.to_csv('data/clean_college_geo.csv', index=False)"
   ]
  },
  {
   "cell_type": "code",
   "execution_count": 18,
   "metadata": {},
   "outputs": [
    {
     "data": {
      "text/plain": [
       "array([2017, 2016, 2015])"
      ]
     },
     "execution_count": 18,
     "metadata": {},
     "output_type": "execute_result"
    }
   ],
   "source": [
    "geo.year.unique()"
   ]
  },
  {
   "cell_type": "markdown",
   "metadata": {},
   "source": [
    "### check admissions df"
   ]
  },
  {
   "cell_type": "code",
   "execution_count": 19,
   "metadata": {},
   "outputs": [
    {
     "data": {
      "text/plain": [
       "Index(['year', 'fips', 'unitid', 'sex', 'number_applied', 'number_admitted',\n",
       "       'number_enrolled_ft', 'number_enrolled_pt', 'number_enrolled_total'],\n",
       "      dtype='object')"
      ]
     },
     "execution_count": 19,
     "metadata": {},
     "output_type": "execute_result"
    }
   ],
   "source": [
    "adm.columns"
   ]
  },
  {
   "cell_type": "code",
   "execution_count": 20,
   "metadata": {},
   "outputs": [],
   "source": [
    "adm.drop(columns=['fips'], inplace=True)"
   ]
  },
  {
   "cell_type": "code",
   "execution_count": 21,
   "metadata": {},
   "outputs": [
    {
     "data": {
      "text/plain": [
       "year                       int64\n",
       "unitid                     int64\n",
       "sex                        int64\n",
       "number_applied           float64\n",
       "number_admitted          float64\n",
       "number_enrolled_ft       float64\n",
       "number_enrolled_pt       float64\n",
       "number_enrolled_total    float64\n",
       "dtype: object"
      ]
     },
     "execution_count": 21,
     "metadata": {},
     "output_type": "execute_result"
    }
   ],
   "source": [
    "adm.dtypes"
   ]
  },
  {
   "cell_type": "markdown",
   "metadata": {},
   "source": [
    "cleaning the admissions df:\n",
    "\n",
    "recode the values into NaNs\n",
    "\n",
    "- 1—Missing/not reported\n",
    "- 2—Not applicable\n",
    "- 3—Suppressed data"
   ]
  },
  {
   "cell_type": "code",
   "execution_count": 22,
   "metadata": {},
   "outputs": [],
   "source": [
    "cols = ['sex', 'number_applied', 'number_admitted',\n",
    "        'number_enrolled_ft', 'number_enrolled_pt', 'number_enrolled_total']\n",
    "adm[cols] = adm[cols].replace({-1:np.nan, -2:np.nan, -3:np.nan})"
   ]
  },
  {
   "cell_type": "code",
   "execution_count": 23,
   "metadata": {},
   "outputs": [
    {
     "data": {
      "text/plain": [
       "array([ 1,  2, 99])"
      ]
     },
     "execution_count": 23,
     "metadata": {},
     "output_type": "execute_result"
    }
   ],
   "source": [
    "adm['sex'].unique()"
   ]
  },
  {
   "cell_type": "code",
   "execution_count": 24,
   "metadata": {},
   "outputs": [],
   "source": [
    "# recode gender\n",
    "adm['gender'] = \"Total\"\n",
    "adm.loc[adm['sex']==1, 'gender'] = \"Male\"\n",
    "adm.loc[adm['sex']==2, 'gender'] = \"Female\""
   ]
  },
  {
   "cell_type": "code",
   "execution_count": 25,
   "metadata": {},
   "outputs": [
    {
     "data": {
      "text/plain": [
       "array([2017, 2016, 2015])"
      ]
     },
     "execution_count": 25,
     "metadata": {},
     "output_type": "execute_result"
    }
   ],
   "source": [
    "adm.year.unique()"
   ]
  },
  {
   "cell_type": "code",
   "execution_count": 26,
   "metadata": {},
   "outputs": [],
   "source": [
    "adm['pct_admitted'] = adm['number_admitted']/adm['number_applied']\n",
    "adm['pct_matriculated'] = adm['number_enrolled_total']/adm['number_admitted']"
   ]
  },
  {
   "cell_type": "code",
   "execution_count": 27,
   "metadata": {},
   "outputs": [
    {
     "data": {
      "text/html": [
       "<div>\n",
       "<style scoped>\n",
       "    .dataframe tbody tr th:only-of-type {\n",
       "        vertical-align: middle;\n",
       "    }\n",
       "\n",
       "    .dataframe tbody tr th {\n",
       "        vertical-align: top;\n",
       "    }\n",
       "\n",
       "    .dataframe thead th {\n",
       "        text-align: right;\n",
       "    }\n",
       "</style>\n",
       "<table border=\"1\" class=\"dataframe\">\n",
       "  <thead>\n",
       "    <tr style=\"text-align: right;\">\n",
       "      <th></th>\n",
       "      <th>year</th>\n",
       "      <th>unitid</th>\n",
       "      <th>sex</th>\n",
       "      <th>number_applied</th>\n",
       "      <th>number_admitted</th>\n",
       "      <th>number_enrolled_ft</th>\n",
       "      <th>number_enrolled_pt</th>\n",
       "      <th>number_enrolled_total</th>\n",
       "      <th>gender</th>\n",
       "      <th>pct_admitted</th>\n",
       "      <th>pct_matriculated</th>\n",
       "    </tr>\n",
       "  </thead>\n",
       "  <tbody>\n",
       "    <tr>\n",
       "      <td>0</td>\n",
       "      <td>2017</td>\n",
       "      <td>100654</td>\n",
       "      <td>1</td>\n",
       "      <td>3066.0</td>\n",
       "      <td>2704.0</td>\n",
       "      <td>515.0</td>\n",
       "      <td>3.0</td>\n",
       "      <td>518.0</td>\n",
       "      <td>Male</td>\n",
       "      <td>0.881931</td>\n",
       "      <td>0.191568</td>\n",
       "    </tr>\n",
       "    <tr>\n",
       "      <td>1</td>\n",
       "      <td>2017</td>\n",
       "      <td>100654</td>\n",
       "      <td>2</td>\n",
       "      <td>5544.0</td>\n",
       "      <td>5068.0</td>\n",
       "      <td>773.0</td>\n",
       "      <td>3.0</td>\n",
       "      <td>776.0</td>\n",
       "      <td>Female</td>\n",
       "      <td>0.914141</td>\n",
       "      <td>0.153118</td>\n",
       "    </tr>\n",
       "    <tr>\n",
       "      <td>2</td>\n",
       "      <td>2017</td>\n",
       "      <td>100654</td>\n",
       "      <td>99</td>\n",
       "      <td>8610.0</td>\n",
       "      <td>7772.0</td>\n",
       "      <td>1288.0</td>\n",
       "      <td>6.0</td>\n",
       "      <td>1294.0</td>\n",
       "      <td>Total</td>\n",
       "      <td>0.902671</td>\n",
       "      <td>0.166495</td>\n",
       "    </tr>\n",
       "    <tr>\n",
       "      <td>3</td>\n",
       "      <td>2017</td>\n",
       "      <td>100663</td>\n",
       "      <td>1</td>\n",
       "      <td>2729.0</td>\n",
       "      <td>2487.0</td>\n",
       "      <td>833.0</td>\n",
       "      <td>28.0</td>\n",
       "      <td>861.0</td>\n",
       "      <td>Male</td>\n",
       "      <td>0.911323</td>\n",
       "      <td>0.346200</td>\n",
       "    </tr>\n",
       "    <tr>\n",
       "      <td>4</td>\n",
       "      <td>2017</td>\n",
       "      <td>100663</td>\n",
       "      <td>2</td>\n",
       "      <td>4826.0</td>\n",
       "      <td>4449.0</td>\n",
       "      <td>1395.0</td>\n",
       "      <td>43.0</td>\n",
       "      <td>1438.0</td>\n",
       "      <td>Female</td>\n",
       "      <td>0.921881</td>\n",
       "      <td>0.323219</td>\n",
       "    </tr>\n",
       "  </tbody>\n",
       "</table>\n",
       "</div>"
      ],
      "text/plain": [
       "   year  unitid  sex  number_applied  number_admitted  number_enrolled_ft  \\\n",
       "0  2017  100654    1          3066.0           2704.0               515.0   \n",
       "1  2017  100654    2          5544.0           5068.0               773.0   \n",
       "2  2017  100654   99          8610.0           7772.0              1288.0   \n",
       "3  2017  100663    1          2729.0           2487.0               833.0   \n",
       "4  2017  100663    2          4826.0           4449.0              1395.0   \n",
       "\n",
       "   number_enrolled_pt  number_enrolled_total  gender  pct_admitted  \\\n",
       "0                 3.0                  518.0    Male      0.881931   \n",
       "1                 3.0                  776.0  Female      0.914141   \n",
       "2                 6.0                 1294.0   Total      0.902671   \n",
       "3                28.0                  861.0    Male      0.911323   \n",
       "4                43.0                 1438.0  Female      0.921881   \n",
       "\n",
       "   pct_matriculated  \n",
       "0          0.191568  \n",
       "1          0.153118  \n",
       "2          0.166495  \n",
       "3          0.346200  \n",
       "4          0.323219  "
      ]
     },
     "execution_count": 27,
     "metadata": {},
     "output_type": "execute_result"
    }
   ],
   "source": [
    "adm.head()"
   ]
  },
  {
   "cell_type": "code",
   "execution_count": 28,
   "metadata": {},
   "outputs": [],
   "source": [
    "adm.to_csv('data/clean_college_admissions.csv', index=False)"
   ]
  },
  {
   "cell_type": "markdown",
   "metadata": {},
   "source": [
    "### check requirements for admissions"
   ]
  },
  {
   "cell_type": "code",
   "execution_count": 29,
   "metadata": {},
   "outputs": [
    {
     "data": {
      "text/plain": [
       "Index(['year', 'fips', 'unitid', 'reqt_hs_diploma', 'reqt_hs_rank',\n",
       "       'reqt_test_scores', 'reqt_sat_scores', 'reqt_other_test',\n",
       "       'reqt_residence', 'reqt_ability_to_benefit', 'reqt_age', 'reqt_toefl',\n",
       "       'reqt_other', 'years_college_reqd', 'no_entering_freshmen',\n",
       "       'open_admissions_policy', 'reqt_hs_gpa', 'reqt_hs_record',\n",
       "       'reqt_college_prep', 'reqt_recommendations', 'reqt_competencies',\n",
       "       'sat_act_report_period', 'sat_number_submitting',\n",
       "       'sat_percent_submitting', 'act_number_submitting',\n",
       "       'act_percent_submitting', 'sat_crit_read_25_pctl',\n",
       "       'sat_crit_read_75_pctl', 'sat_math_25_pctl', 'sat_math_75_pctl',\n",
       "       'act_composite_25_pctl', 'act_composite_75_pctl', 'act_english_25_pctl',\n",
       "       'act_english_75_pctl', 'act_math_25_pctl', 'act_math_75_pctl',\n",
       "       'sat_writing_25_pctl', 'sat_writing_75_pctl', 'act_writing_25_pctl',\n",
       "       'act_writing_75_pctl'],\n",
       "      dtype='object')"
      ]
     },
     "execution_count": 29,
     "metadata": {},
     "output_type": "execute_result"
    }
   ],
   "source": [
    "req.columns"
   ]
  },
  {
   "cell_type": "code",
   "execution_count": 30,
   "metadata": {},
   "outputs": [],
   "source": [
    "req.drop(columns=['fips', 'reqt_hs_diploma', 'reqt_hs_rank','reqt_sat_scores', 'reqt_other_test',\n",
    "                  'reqt_residence', 'reqt_ability_to_benefit', 'reqt_age', 'reqt_toefl','reqt_other',\n",
    "                  'years_college_reqd', 'no_entering_freshmen', 'reqt_hs_record','reqt_college_prep', \n",
    "                  'reqt_competencies', 'sat_act_report_period'], inplace=True)"
   ]
  },
  {
   "cell_type": "code",
   "execution_count": 31,
   "metadata": {},
   "outputs": [],
   "source": [
    "rcols = ['reqt_test_scores', 'open_admissions_policy',\n",
    "       'reqt_hs_gpa', 'reqt_recommendations', 'sat_number_submitting',\n",
    "       'sat_percent_submitting', 'act_number_submitting',\n",
    "       'act_percent_submitting', 'sat_crit_read_25_pctl',\n",
    "       'sat_crit_read_75_pctl', 'sat_math_25_pctl', 'sat_math_75_pctl',\n",
    "       'act_composite_25_pctl', 'act_composite_75_pctl', 'act_english_25_pctl',\n",
    "       'act_english_75_pctl', 'act_math_25_pctl', 'act_math_75_pctl',\n",
    "       'sat_writing_25_pctl', 'sat_writing_75_pctl', 'act_writing_25_pctl',\n",
    "       'act_writing_75_pctl']\n",
    "req[rcols] = req[rcols].replace({-1:np.nan, -2:np.nan, -3:np.nan})"
   ]
  },
  {
   "cell_type": "code",
   "execution_count": 32,
   "metadata": {},
   "outputs": [
    {
     "data": {
      "text/plain": [
       "array([ 1., nan,  2.,  0.,  3.])"
      ]
     },
     "execution_count": 32,
     "metadata": {},
     "output_type": "execute_result"
    }
   ],
   "source": [
    "req.reqt_test_scores.unique()"
   ]
  },
  {
   "cell_type": "code",
   "execution_count": 33,
   "metadata": {},
   "outputs": [],
   "source": [
    "req['reqt_test_scores'] = req['reqt_test_scores'].replace({0:\"Neither required nor recommended\",1:\"Required\",\n",
    "                                                           2:\"Recommended\", 3:\"Considered\", np.nan:\"Unreported\"})"
   ]
  },
  {
   "cell_type": "code",
   "execution_count": 34,
   "metadata": {},
   "outputs": [
    {
     "data": {
      "text/plain": [
       "array([ 0.,  1., nan])"
      ]
     },
     "execution_count": 34,
     "metadata": {},
     "output_type": "execute_result"
    }
   ],
   "source": [
    "req.open_admissions_policy.unique()"
   ]
  },
  {
   "cell_type": "code",
   "execution_count": 35,
   "metadata": {},
   "outputs": [],
   "source": [
    "req['open_admissions_policy'] = req['open_admissions_policy'].replace({0:\"No\",1:\"Yes\",\n",
    "                                                                       np.nan:\"Unreported\"})"
   ]
  },
  {
   "cell_type": "code",
   "execution_count": 36,
   "metadata": {},
   "outputs": [
    {
     "data": {
      "text/plain": [
       "array([ 1., nan,  0.,  2.,  3.])"
      ]
     },
     "execution_count": 36,
     "metadata": {},
     "output_type": "execute_result"
    }
   ],
   "source": [
    "req.reqt_hs_gpa.unique()"
   ]
  },
  {
   "cell_type": "code",
   "execution_count": 37,
   "metadata": {},
   "outputs": [],
   "source": [
    "req['reqt_hs_gpa'] = req['reqt_hs_gpa'].replace({0:\"Neither required nor recommended\",1:\"Required\",\n",
    "                                                 2:\"Recommended\", 3:\"Considered\", np.nan:\"Unreported\"})"
   ]
  },
  {
   "cell_type": "code",
   "execution_count": 38,
   "metadata": {},
   "outputs": [
    {
     "data": {
      "text/plain": [
       "array([ 0., nan,  2.,  1.,  3.])"
      ]
     },
     "execution_count": 38,
     "metadata": {},
     "output_type": "execute_result"
    }
   ],
   "source": [
    "req.reqt_recommendations.unique()"
   ]
  },
  {
   "cell_type": "code",
   "execution_count": 39,
   "metadata": {},
   "outputs": [],
   "source": [
    "req['reqt_recommendations'] = req['reqt_recommendations'].replace({0:\"Neither required nor recommended\",1:\"Required\",\n",
    "                                                                   2:\"Recommended\", 3:\"Considered\", np.nan:\"Unreported\"})"
   ]
  },
  {
   "cell_type": "code",
   "execution_count": 40,
   "metadata": {},
   "outputs": [
    {
     "data": {
      "text/html": [
       "<div>\n",
       "<style scoped>\n",
       "    .dataframe tbody tr th:only-of-type {\n",
       "        vertical-align: middle;\n",
       "    }\n",
       "\n",
       "    .dataframe tbody tr th {\n",
       "        vertical-align: top;\n",
       "    }\n",
       "\n",
       "    .dataframe thead th {\n",
       "        text-align: right;\n",
       "    }\n",
       "</style>\n",
       "<table border=\"1\" class=\"dataframe\">\n",
       "  <thead>\n",
       "    <tr style=\"text-align: right;\">\n",
       "      <th></th>\n",
       "      <th>year</th>\n",
       "      <th>unitid</th>\n",
       "      <th>sat_number_submitting</th>\n",
       "      <th>sat_percent_submitting</th>\n",
       "      <th>act_number_submitting</th>\n",
       "      <th>act_percent_submitting</th>\n",
       "      <th>sat_crit_read_25_pctl</th>\n",
       "      <th>sat_crit_read_75_pctl</th>\n",
       "      <th>sat_math_25_pctl</th>\n",
       "      <th>sat_math_75_pctl</th>\n",
       "      <th>act_composite_25_pctl</th>\n",
       "      <th>act_composite_75_pctl</th>\n",
       "      <th>act_english_25_pctl</th>\n",
       "      <th>act_english_75_pctl</th>\n",
       "      <th>act_math_25_pctl</th>\n",
       "      <th>act_math_75_pctl</th>\n",
       "      <th>sat_writing_25_pctl</th>\n",
       "      <th>sat_writing_75_pctl</th>\n",
       "      <th>act_writing_25_pctl</th>\n",
       "      <th>act_writing_75_pctl</th>\n",
       "    </tr>\n",
       "  </thead>\n",
       "  <tbody>\n",
       "    <tr>\n",
       "      <td>count</td>\n",
       "      <td>22321.000000</td>\n",
       "      <td>22321.000000</td>\n",
       "      <td>3956.000000</td>\n",
       "      <td>3954.000000</td>\n",
       "      <td>3954.000000</td>\n",
       "      <td>3954.000000</td>\n",
       "      <td>3688.000000</td>\n",
       "      <td>3688.000000</td>\n",
       "      <td>3698.000000</td>\n",
       "      <td>3698.000000</td>\n",
       "      <td>3827.000000</td>\n",
       "      <td>3827.000000</td>\n",
       "      <td>3515.000000</td>\n",
       "      <td>3515.000000</td>\n",
       "      <td>3517.000000</td>\n",
       "      <td>3517.000000</td>\n",
       "      <td>744.000000</td>\n",
       "      <td>744.000000</td>\n",
       "      <td>329.000000</td>\n",
       "      <td>329.000000</td>\n",
       "    </tr>\n",
       "    <tr>\n",
       "      <td>mean</td>\n",
       "      <td>2015.977868</td>\n",
       "      <td>289480.348237</td>\n",
       "      <td>540.894590</td>\n",
       "      <td>47.223571</td>\n",
       "      <td>624.762013</td>\n",
       "      <td>57.621649</td>\n",
       "      <td>482.520607</td>\n",
       "      <td>587.994306</td>\n",
       "      <td>484.653056</td>\n",
       "      <td>590.764467</td>\n",
       "      <td>20.476875</td>\n",
       "      <td>25.672589</td>\n",
       "      <td>19.559602</td>\n",
       "      <td>25.942532</td>\n",
       "      <td>19.406597</td>\n",
       "      <td>25.345465</td>\n",
       "      <td>462.913978</td>\n",
       "      <td>569.189516</td>\n",
       "      <td>6.568389</td>\n",
       "      <td>8.386018</td>\n",
       "    </tr>\n",
       "    <tr>\n",
       "      <td>std</td>\n",
       "      <td>0.813998</td>\n",
       "      <td>136566.240433</td>\n",
       "      <td>911.302863</td>\n",
       "      <td>32.384596</td>\n",
       "      <td>968.119785</td>\n",
       "      <td>29.859872</td>\n",
       "      <td>73.400519</td>\n",
       "      <td>71.093159</td>\n",
       "      <td>75.139052</td>\n",
       "      <td>74.505609</td>\n",
       "      <td>3.756879</td>\n",
       "      <td>3.600573</td>\n",
       "      <td>4.250758</td>\n",
       "      <td>4.135318</td>\n",
       "      <td>3.698636</td>\n",
       "      <td>3.644126</td>\n",
       "      <td>82.071584</td>\n",
       "      <td>81.082417</td>\n",
       "      <td>1.197955</td>\n",
       "      <td>0.917273</td>\n",
       "    </tr>\n",
       "    <tr>\n",
       "      <td>min</td>\n",
       "      <td>2015.000000</td>\n",
       "      <td>100654.000000</td>\n",
       "      <td>0.000000</td>\n",
       "      <td>0.000000</td>\n",
       "      <td>0.000000</td>\n",
       "      <td>0.000000</td>\n",
       "      <td>210.000000</td>\n",
       "      <td>260.000000</td>\n",
       "      <td>210.000000</td>\n",
       "      <td>338.000000</td>\n",
       "      <td>1.000000</td>\n",
       "      <td>2.000000</td>\n",
       "      <td>1.000000</td>\n",
       "      <td>2.000000</td>\n",
       "      <td>1.000000</td>\n",
       "      <td>2.000000</td>\n",
       "      <td>200.000000</td>\n",
       "      <td>360.000000</td>\n",
       "      <td>2.000000</td>\n",
       "      <td>6.000000</td>\n",
       "    </tr>\n",
       "    <tr>\n",
       "      <td>25%</td>\n",
       "      <td>2015.000000</td>\n",
       "      <td>172477.000000</td>\n",
       "      <td>41.000000</td>\n",
       "      <td>13.000000</td>\n",
       "      <td>108.000000</td>\n",
       "      <td>33.000000</td>\n",
       "      <td>430.000000</td>\n",
       "      <td>540.000000</td>\n",
       "      <td>435.000000</td>\n",
       "      <td>540.000000</td>\n",
       "      <td>18.000000</td>\n",
       "      <td>23.000000</td>\n",
       "      <td>17.000000</td>\n",
       "      <td>23.000000</td>\n",
       "      <td>17.000000</td>\n",
       "      <td>23.000000</td>\n",
       "      <td>410.000000</td>\n",
       "      <td>519.500000</td>\n",
       "      <td>6.000000</td>\n",
       "      <td>8.000000</td>\n",
       "    </tr>\n",
       "    <tr>\n",
       "      <td>50%</td>\n",
       "      <td>2016.000000</td>\n",
       "      <td>226833.000000</td>\n",
       "      <td>198.000000</td>\n",
       "      <td>53.000000</td>\n",
       "      <td>253.000000</td>\n",
       "      <td>57.000000</td>\n",
       "      <td>470.000000</td>\n",
       "      <td>580.000000</td>\n",
       "      <td>470.000000</td>\n",
       "      <td>580.000000</td>\n",
       "      <td>20.000000</td>\n",
       "      <td>25.000000</td>\n",
       "      <td>19.000000</td>\n",
       "      <td>25.000000</td>\n",
       "      <td>18.000000</td>\n",
       "      <td>25.000000</td>\n",
       "      <td>440.000000</td>\n",
       "      <td>557.500000</td>\n",
       "      <td>6.000000</td>\n",
       "      <td>8.000000</td>\n",
       "    </tr>\n",
       "    <tr>\n",
       "      <td>75%</td>\n",
       "      <td>2017.000000</td>\n",
       "      <td>445267.000000</td>\n",
       "      <td>602.250000</td>\n",
       "      <td>77.000000</td>\n",
       "      <td>641.750000</td>\n",
       "      <td>88.000000</td>\n",
       "      <td>520.000000</td>\n",
       "      <td>630.000000</td>\n",
       "      <td>520.000000</td>\n",
       "      <td>630.000000</td>\n",
       "      <td>22.000000</td>\n",
       "      <td>28.000000</td>\n",
       "      <td>21.000000</td>\n",
       "      <td>28.000000</td>\n",
       "      <td>21.000000</td>\n",
       "      <td>27.000000</td>\n",
       "      <td>500.000000</td>\n",
       "      <td>610.000000</td>\n",
       "      <td>7.000000</td>\n",
       "      <td>9.000000</td>\n",
       "    </tr>\n",
       "    <tr>\n",
       "      <td>max</td>\n",
       "      <td>2017.000000</td>\n",
       "      <td>491437.000000</td>\n",
       "      <td>6652.000000</td>\n",
       "      <td>100.000000</td>\n",
       "      <td>6784.000000</td>\n",
       "      <td>100.000000</td>\n",
       "      <td>750.000000</td>\n",
       "      <td>800.000000</td>\n",
       "      <td>780.000000</td>\n",
       "      <td>800.000000</td>\n",
       "      <td>34.000000</td>\n",
       "      <td>36.000000</td>\n",
       "      <td>34.000000</td>\n",
       "      <td>36.000000</td>\n",
       "      <td>35.000000</td>\n",
       "      <td>36.000000</td>\n",
       "      <td>730.000000</td>\n",
       "      <td>800.000000</td>\n",
       "      <td>11.000000</td>\n",
       "      <td>12.000000</td>\n",
       "    </tr>\n",
       "  </tbody>\n",
       "</table>\n",
       "</div>"
      ],
      "text/plain": [
       "               year         unitid  sat_number_submitting  \\\n",
       "count  22321.000000   22321.000000            3956.000000   \n",
       "mean    2015.977868  289480.348237             540.894590   \n",
       "std        0.813998  136566.240433             911.302863   \n",
       "min     2015.000000  100654.000000               0.000000   \n",
       "25%     2015.000000  172477.000000              41.000000   \n",
       "50%     2016.000000  226833.000000             198.000000   \n",
       "75%     2017.000000  445267.000000             602.250000   \n",
       "max     2017.000000  491437.000000            6652.000000   \n",
       "\n",
       "       sat_percent_submitting  act_number_submitting  act_percent_submitting  \\\n",
       "count             3954.000000            3954.000000             3954.000000   \n",
       "mean                47.223571             624.762013               57.621649   \n",
       "std                 32.384596             968.119785               29.859872   \n",
       "min                  0.000000               0.000000                0.000000   \n",
       "25%                 13.000000             108.000000               33.000000   \n",
       "50%                 53.000000             253.000000               57.000000   \n",
       "75%                 77.000000             641.750000               88.000000   \n",
       "max                100.000000            6784.000000              100.000000   \n",
       "\n",
       "       sat_crit_read_25_pctl  sat_crit_read_75_pctl  sat_math_25_pctl  \\\n",
       "count            3688.000000            3688.000000       3698.000000   \n",
       "mean              482.520607             587.994306        484.653056   \n",
       "std                73.400519              71.093159         75.139052   \n",
       "min               210.000000             260.000000        210.000000   \n",
       "25%               430.000000             540.000000        435.000000   \n",
       "50%               470.000000             580.000000        470.000000   \n",
       "75%               520.000000             630.000000        520.000000   \n",
       "max               750.000000             800.000000        780.000000   \n",
       "\n",
       "       sat_math_75_pctl  act_composite_25_pctl  act_composite_75_pctl  \\\n",
       "count       3698.000000            3827.000000            3827.000000   \n",
       "mean         590.764467              20.476875              25.672589   \n",
       "std           74.505609               3.756879               3.600573   \n",
       "min          338.000000               1.000000               2.000000   \n",
       "25%          540.000000              18.000000              23.000000   \n",
       "50%          580.000000              20.000000              25.000000   \n",
       "75%          630.000000              22.000000              28.000000   \n",
       "max          800.000000              34.000000              36.000000   \n",
       "\n",
       "       act_english_25_pctl  act_english_75_pctl  act_math_25_pctl  \\\n",
       "count          3515.000000          3515.000000       3517.000000   \n",
       "mean             19.559602            25.942532         19.406597   \n",
       "std               4.250758             4.135318          3.698636   \n",
       "min               1.000000             2.000000          1.000000   \n",
       "25%              17.000000            23.000000         17.000000   \n",
       "50%              19.000000            25.000000         18.000000   \n",
       "75%              21.000000            28.000000         21.000000   \n",
       "max              34.000000            36.000000         35.000000   \n",
       "\n",
       "       act_math_75_pctl  sat_writing_25_pctl  sat_writing_75_pctl  \\\n",
       "count       3517.000000           744.000000           744.000000   \n",
       "mean          25.345465           462.913978           569.189516   \n",
       "std            3.644126            82.071584            81.082417   \n",
       "min            2.000000           200.000000           360.000000   \n",
       "25%           23.000000           410.000000           519.500000   \n",
       "50%           25.000000           440.000000           557.500000   \n",
       "75%           27.000000           500.000000           610.000000   \n",
       "max           36.000000           730.000000           800.000000   \n",
       "\n",
       "       act_writing_25_pctl  act_writing_75_pctl  \n",
       "count           329.000000           329.000000  \n",
       "mean              6.568389             8.386018  \n",
       "std               1.197955             0.917273  \n",
       "min               2.000000             6.000000  \n",
       "25%               6.000000             8.000000  \n",
       "50%               6.000000             8.000000  \n",
       "75%               7.000000             9.000000  \n",
       "max              11.000000            12.000000  "
      ]
     },
     "execution_count": 40,
     "metadata": {},
     "output_type": "execute_result"
    }
   ],
   "source": [
    "req.describe()"
   ]
  },
  {
   "cell_type": "code",
   "execution_count": 41,
   "metadata": {},
   "outputs": [
    {
     "data": {
      "text/html": [
       "<div>\n",
       "<style scoped>\n",
       "    .dataframe tbody tr th:only-of-type {\n",
       "        vertical-align: middle;\n",
       "    }\n",
       "\n",
       "    .dataframe tbody tr th {\n",
       "        vertical-align: top;\n",
       "    }\n",
       "\n",
       "    .dataframe thead th {\n",
       "        text-align: right;\n",
       "    }\n",
       "</style>\n",
       "<table border=\"1\" class=\"dataframe\">\n",
       "  <thead>\n",
       "    <tr style=\"text-align: right;\">\n",
       "      <th></th>\n",
       "      <th>year</th>\n",
       "      <th>unitid</th>\n",
       "      <th>reqt_test_scores</th>\n",
       "      <th>open_admissions_policy</th>\n",
       "      <th>reqt_hs_gpa</th>\n",
       "      <th>reqt_recommendations</th>\n",
       "      <th>sat_number_submitting</th>\n",
       "      <th>sat_percent_submitting</th>\n",
       "      <th>act_number_submitting</th>\n",
       "      <th>act_percent_submitting</th>\n",
       "      <th>...</th>\n",
       "      <th>act_composite_25_pctl</th>\n",
       "      <th>act_composite_75_pctl</th>\n",
       "      <th>act_english_25_pctl</th>\n",
       "      <th>act_english_75_pctl</th>\n",
       "      <th>act_math_25_pctl</th>\n",
       "      <th>act_math_75_pctl</th>\n",
       "      <th>sat_writing_25_pctl</th>\n",
       "      <th>sat_writing_75_pctl</th>\n",
       "      <th>act_writing_25_pctl</th>\n",
       "      <th>act_writing_75_pctl</th>\n",
       "    </tr>\n",
       "  </thead>\n",
       "  <tbody>\n",
       "    <tr>\n",
       "      <td>0</td>\n",
       "      <td>2017</td>\n",
       "      <td>100654</td>\n",
       "      <td>Required</td>\n",
       "      <td>No</td>\n",
       "      <td>Required</td>\n",
       "      <td>Neither required nor recommended</td>\n",
       "      <td>21.0</td>\n",
       "      <td>1.0</td>\n",
       "      <td>1270.0</td>\n",
       "      <td>88.0</td>\n",
       "      <td>...</td>\n",
       "      <td>16.0</td>\n",
       "      <td>19.0</td>\n",
       "      <td>14.0</td>\n",
       "      <td>20.0</td>\n",
       "      <td>15.0</td>\n",
       "      <td>18.0</td>\n",
       "      <td>NaN</td>\n",
       "      <td>NaN</td>\n",
       "      <td>NaN</td>\n",
       "      <td>NaN</td>\n",
       "    </tr>\n",
       "    <tr>\n",
       "      <td>1</td>\n",
       "      <td>2017</td>\n",
       "      <td>100663</td>\n",
       "      <td>Required</td>\n",
       "      <td>No</td>\n",
       "      <td>Required</td>\n",
       "      <td>Neither required nor recommended</td>\n",
       "      <td>15.0</td>\n",
       "      <td>1.0</td>\n",
       "      <td>2093.0</td>\n",
       "      <td>94.0</td>\n",
       "      <td>...</td>\n",
       "      <td>21.0</td>\n",
       "      <td>28.0</td>\n",
       "      <td>22.0</td>\n",
       "      <td>31.0</td>\n",
       "      <td>21.0</td>\n",
       "      <td>26.0</td>\n",
       "      <td>NaN</td>\n",
       "      <td>NaN</td>\n",
       "      <td>NaN</td>\n",
       "      <td>NaN</td>\n",
       "    </tr>\n",
       "    <tr>\n",
       "      <td>2</td>\n",
       "      <td>2017</td>\n",
       "      <td>100690</td>\n",
       "      <td>Unreported</td>\n",
       "      <td>Yes</td>\n",
       "      <td>Unreported</td>\n",
       "      <td>Unreported</td>\n",
       "      <td>NaN</td>\n",
       "      <td>NaN</td>\n",
       "      <td>NaN</td>\n",
       "      <td>NaN</td>\n",
       "      <td>...</td>\n",
       "      <td>NaN</td>\n",
       "      <td>NaN</td>\n",
       "      <td>NaN</td>\n",
       "      <td>NaN</td>\n",
       "      <td>NaN</td>\n",
       "      <td>NaN</td>\n",
       "      <td>NaN</td>\n",
       "      <td>NaN</td>\n",
       "      <td>NaN</td>\n",
       "      <td>NaN</td>\n",
       "    </tr>\n",
       "    <tr>\n",
       "      <td>3</td>\n",
       "      <td>2017</td>\n",
       "      <td>100706</td>\n",
       "      <td>Required</td>\n",
       "      <td>No</td>\n",
       "      <td>Required</td>\n",
       "      <td>Neither required nor recommended</td>\n",
       "      <td>29.0</td>\n",
       "      <td>2.0</td>\n",
       "      <td>1292.0</td>\n",
       "      <td>96.0</td>\n",
       "      <td>...</td>\n",
       "      <td>25.0</td>\n",
       "      <td>31.0</td>\n",
       "      <td>25.0</td>\n",
       "      <td>33.0</td>\n",
       "      <td>24.0</td>\n",
       "      <td>29.0</td>\n",
       "      <td>NaN</td>\n",
       "      <td>NaN</td>\n",
       "      <td>NaN</td>\n",
       "      <td>NaN</td>\n",
       "    </tr>\n",
       "    <tr>\n",
       "      <td>4</td>\n",
       "      <td>2017</td>\n",
       "      <td>100724</td>\n",
       "      <td>Required</td>\n",
       "      <td>No</td>\n",
       "      <td>Required</td>\n",
       "      <td>Neither required nor recommended</td>\n",
       "      <td>173.0</td>\n",
       "      <td>18.0</td>\n",
       "      <td>826.0</td>\n",
       "      <td>85.0</td>\n",
       "      <td>...</td>\n",
       "      <td>16.0</td>\n",
       "      <td>20.0</td>\n",
       "      <td>15.0</td>\n",
       "      <td>19.0</td>\n",
       "      <td>14.0</td>\n",
       "      <td>19.0</td>\n",
       "      <td>NaN</td>\n",
       "      <td>NaN</td>\n",
       "      <td>NaN</td>\n",
       "      <td>NaN</td>\n",
       "    </tr>\n",
       "  </tbody>\n",
       "</table>\n",
       "<p>5 rows × 24 columns</p>\n",
       "</div>"
      ],
      "text/plain": [
       "   year  unitid reqt_test_scores open_admissions_policy reqt_hs_gpa  \\\n",
       "0  2017  100654         Required                     No    Required   \n",
       "1  2017  100663         Required                     No    Required   \n",
       "2  2017  100690       Unreported                    Yes  Unreported   \n",
       "3  2017  100706         Required                     No    Required   \n",
       "4  2017  100724         Required                     No    Required   \n",
       "\n",
       "               reqt_recommendations  sat_number_submitting  \\\n",
       "0  Neither required nor recommended                   21.0   \n",
       "1  Neither required nor recommended                   15.0   \n",
       "2                        Unreported                    NaN   \n",
       "3  Neither required nor recommended                   29.0   \n",
       "4  Neither required nor recommended                  173.0   \n",
       "\n",
       "   sat_percent_submitting  act_number_submitting  act_percent_submitting  ...  \\\n",
       "0                     1.0                 1270.0                    88.0  ...   \n",
       "1                     1.0                 2093.0                    94.0  ...   \n",
       "2                     NaN                    NaN                     NaN  ...   \n",
       "3                     2.0                 1292.0                    96.0  ...   \n",
       "4                    18.0                  826.0                    85.0  ...   \n",
       "\n",
       "   act_composite_25_pctl  act_composite_75_pctl  act_english_25_pctl  \\\n",
       "0                   16.0                   19.0                 14.0   \n",
       "1                   21.0                   28.0                 22.0   \n",
       "2                    NaN                    NaN                  NaN   \n",
       "3                   25.0                   31.0                 25.0   \n",
       "4                   16.0                   20.0                 15.0   \n",
       "\n",
       "   act_english_75_pctl  act_math_25_pctl  act_math_75_pctl  \\\n",
       "0                 20.0              15.0              18.0   \n",
       "1                 31.0              21.0              26.0   \n",
       "2                  NaN               NaN               NaN   \n",
       "3                 33.0              24.0              29.0   \n",
       "4                 19.0              14.0              19.0   \n",
       "\n",
       "   sat_writing_25_pctl  sat_writing_75_pctl  act_writing_25_pctl  \\\n",
       "0                  NaN                  NaN                  NaN   \n",
       "1                  NaN                  NaN                  NaN   \n",
       "2                  NaN                  NaN                  NaN   \n",
       "3                  NaN                  NaN                  NaN   \n",
       "4                  NaN                  NaN                  NaN   \n",
       "\n",
       "   act_writing_75_pctl  \n",
       "0                  NaN  \n",
       "1                  NaN  \n",
       "2                  NaN  \n",
       "3                  NaN  \n",
       "4                  NaN  \n",
       "\n",
       "[5 rows x 24 columns]"
      ]
     },
     "execution_count": 41,
     "metadata": {},
     "output_type": "execute_result"
    }
   ],
   "source": [
    "req.head()"
   ]
  },
  {
   "cell_type": "code",
   "execution_count": 42,
   "metadata": {},
   "outputs": [
    {
     "data": {
      "text/plain": [
       "array([2017, 2016, 2015])"
      ]
     },
     "execution_count": 42,
     "metadata": {},
     "output_type": "execute_result"
    }
   ],
   "source": [
    "req.year.unique()"
   ]
  },
  {
   "cell_type": "code",
   "execution_count": 43,
   "metadata": {},
   "outputs": [
    {
     "data": {
      "text/plain": [
       "7440.333333333333"
      ]
     },
     "execution_count": 43,
     "metadata": {},
     "output_type": "execute_result"
    }
   ],
   "source": [
    "len(req)/3"
   ]
  },
  {
   "cell_type": "code",
   "execution_count": 44,
   "metadata": {},
   "outputs": [],
   "source": [
    "req.to_csv('data/clean_college_admissions_req.csv', index=False)"
   ]
  },
  {
   "cell_type": "markdown",
   "metadata": {},
   "source": [
    "### check completers df"
   ]
  },
  {
   "cell_type": "code",
   "execution_count": 45,
   "metadata": {},
   "outputs": [
    {
     "data": {
      "text/plain": [
       "Index(['unitid', 'year', 'fips', 'cohort_year', 'institution_level',\n",
       "       'subcohort', 'race', 'sex', 'cohort_rev', 'exclusions',\n",
       "       'cohort_adj_150pct', 'completers_150pct', 'transfers_out',\n",
       "       'still_enrolled_long_program', 'completers_100pct', 'still_enrolled',\n",
       "       'no_longer_enrolled', 'completion_rate_150pct'],\n",
       "      dtype='object')"
      ]
     },
     "execution_count": 45,
     "metadata": {},
     "output_type": "execute_result"
    }
   ],
   "source": [
    "comp.columns"
   ]
  },
  {
   "cell_type": "code",
   "execution_count": 46,
   "metadata": {},
   "outputs": [],
   "source": [
    "ccols = ['cohort_year', 'institution_level',\n",
    "       'subcohort', 'race', 'sex', 'cohort_rev', 'exclusions',\n",
    "       'cohort_adj_150pct', 'completers_150pct', 'transfers_out',\n",
    "       'still_enrolled_long_program', 'completers_100pct', 'still_enrolled',\n",
    "       'no_longer_enrolled', 'completion_rate_150pct']\n",
    "comp[ccols] = comp[ccols].replace({-1:np.nan, -2:np.nan, -3:np.nan})"
   ]
  },
  {
   "cell_type": "code",
   "execution_count": 47,
   "metadata": {},
   "outputs": [
    {
     "data": {
      "text/plain": [
       "array([4, 2, 1])"
      ]
     },
     "execution_count": 47,
     "metadata": {},
     "output_type": "execute_result"
    }
   ],
   "source": [
    "comp.institution_level.unique()"
   ]
  },
  {
   "cell_type": "code",
   "execution_count": 48,
   "metadata": {},
   "outputs": [],
   "source": [
    "comp['institution_level'] = comp['institution_level'].replace({1:\"Less than two years (below associate's)\",\n",
    "                                                               2:\"At least two but less than four years\",\n",
    "                                                               4:\"Four or more years\"})"
   ]
  },
  {
   "cell_type": "code",
   "execution_count": 49,
   "metadata": {},
   "outputs": [
    {
     "data": {
      "text/plain": [
       "array([99,  2,  1])"
      ]
     },
     "execution_count": 49,
     "metadata": {},
     "output_type": "execute_result"
    }
   ],
   "source": [
    "comp.subcohort.unique()"
   ]
  },
  {
   "cell_type": "code",
   "execution_count": 50,
   "metadata": {},
   "outputs": [],
   "source": [
    "comp['subcohort'] = comp['subcohort'].replace({1:\"Degree/certificate nonbachelor's seeking subcohort of four-year institutions\",\n",
    "                                               2:\"Bachelor's or equivalent subcohort of four-year institutions\",\n",
    "                                               99:\"Total\"})"
   ]
  },
  {
   "cell_type": "code",
   "execution_count": 51,
   "metadata": {},
   "outputs": [
    {
     "data": {
      "text/plain": [
       "array([ 2,  6, 99,  5,  8,  7,  3,  4,  9,  1])"
      ]
     },
     "execution_count": 51,
     "metadata": {},
     "output_type": "execute_result"
    }
   ],
   "source": [
    "comp.race.unique()"
   ]
  },
  {
   "cell_type": "code",
   "execution_count": 52,
   "metadata": {},
   "outputs": [],
   "source": [
    "comp['race'] = comp['race'].replace({1:\"White\",2:\"Black\",3:\"Hispanic\", 4:\"Asian\", 5:\"American Indian or Alaska Native\",\n",
    "                                     6:\"Native Hawaiian or other Pacific Islander\", 7:\"Two or more races\",\n",
    "                                     8:\"Nonresident alien\", 9:\"Unknown\", 20:\"Other\", 99:\"Total\"})"
   ]
  },
  {
   "cell_type": "code",
   "execution_count": 53,
   "metadata": {},
   "outputs": [
    {
     "data": {
      "text/plain": [
       "array([99,  1,  2])"
      ]
     },
     "execution_count": 53,
     "metadata": {},
     "output_type": "execute_result"
    }
   ],
   "source": [
    "comp.sex.unique()"
   ]
  },
  {
   "cell_type": "code",
   "execution_count": 54,
   "metadata": {},
   "outputs": [],
   "source": [
    "comp['gender'] = comp['sex'].replace({1:\"Male\",2:\"Female\",99:\"Total\"})"
   ]
  },
  {
   "cell_type": "code",
   "execution_count": 55,
   "metadata": {},
   "outputs": [
    {
     "data": {
      "text/html": [
       "<div>\n",
       "<style scoped>\n",
       "    .dataframe tbody tr th:only-of-type {\n",
       "        vertical-align: middle;\n",
       "    }\n",
       "\n",
       "    .dataframe tbody tr th {\n",
       "        vertical-align: top;\n",
       "    }\n",
       "\n",
       "    .dataframe thead th {\n",
       "        text-align: right;\n",
       "    }\n",
       "</style>\n",
       "<table border=\"1\" class=\"dataframe\">\n",
       "  <thead>\n",
       "    <tr style=\"text-align: right;\">\n",
       "      <th></th>\n",
       "      <th>unitid</th>\n",
       "      <th>year</th>\n",
       "      <th>fips</th>\n",
       "      <th>cohort_year</th>\n",
       "      <th>institution_level</th>\n",
       "      <th>subcohort</th>\n",
       "      <th>race</th>\n",
       "      <th>sex</th>\n",
       "      <th>cohort_rev</th>\n",
       "      <th>exclusions</th>\n",
       "      <th>cohort_adj_150pct</th>\n",
       "      <th>completers_150pct</th>\n",
       "      <th>transfers_out</th>\n",
       "      <th>still_enrolled_long_program</th>\n",
       "      <th>completers_100pct</th>\n",
       "      <th>still_enrolled</th>\n",
       "      <th>no_longer_enrolled</th>\n",
       "      <th>completion_rate_150pct</th>\n",
       "      <th>gender</th>\n",
       "    </tr>\n",
       "  </thead>\n",
       "  <tbody>\n",
       "    <tr>\n",
       "      <td>0</td>\n",
       "      <td>100654</td>\n",
       "      <td>2016</td>\n",
       "      <td>1</td>\n",
       "      <td>2011</td>\n",
       "      <td>Four or more years</td>\n",
       "      <td>Total</td>\n",
       "      <td>Black</td>\n",
       "      <td>99</td>\n",
       "      <td>NaN</td>\n",
       "      <td>NaN</td>\n",
       "      <td>807</td>\n",
       "      <td>195.0</td>\n",
       "      <td>313.0</td>\n",
       "      <td>NaN</td>\n",
       "      <td>NaN</td>\n",
       "      <td>96.0</td>\n",
       "      <td>203.0</td>\n",
       "      <td>0.242</td>\n",
       "      <td>Total</td>\n",
       "    </tr>\n",
       "    <tr>\n",
       "      <td>1</td>\n",
       "      <td>100654</td>\n",
       "      <td>2016</td>\n",
       "      <td>1</td>\n",
       "      <td>2011</td>\n",
       "      <td>Four or more years</td>\n",
       "      <td>Bachelor's or equivalent subcohort of four-yea...</td>\n",
       "      <td>Black</td>\n",
       "      <td>99</td>\n",
       "      <td>807.0</td>\n",
       "      <td>NaN</td>\n",
       "      <td>807</td>\n",
       "      <td>195.0</td>\n",
       "      <td>313.0</td>\n",
       "      <td>NaN</td>\n",
       "      <td>NaN</td>\n",
       "      <td>96.0</td>\n",
       "      <td>203.0</td>\n",
       "      <td>0.242</td>\n",
       "      <td>Total</td>\n",
       "    </tr>\n",
       "    <tr>\n",
       "      <td>2</td>\n",
       "      <td>100654</td>\n",
       "      <td>2016</td>\n",
       "      <td>1</td>\n",
       "      <td>2011</td>\n",
       "      <td>Four or more years</td>\n",
       "      <td>Bachelor's or equivalent subcohort of four-yea...</td>\n",
       "      <td>Native Hawaiian or other Pacific Islander</td>\n",
       "      <td>1</td>\n",
       "      <td>0.0</td>\n",
       "      <td>NaN</td>\n",
       "      <td>0</td>\n",
       "      <td>0.0</td>\n",
       "      <td>0.0</td>\n",
       "      <td>NaN</td>\n",
       "      <td>NaN</td>\n",
       "      <td>0.0</td>\n",
       "      <td>0.0</td>\n",
       "      <td>NaN</td>\n",
       "      <td>Male</td>\n",
       "    </tr>\n",
       "    <tr>\n",
       "      <td>3</td>\n",
       "      <td>100654</td>\n",
       "      <td>2016</td>\n",
       "      <td>1</td>\n",
       "      <td>2011</td>\n",
       "      <td>Four or more years</td>\n",
       "      <td>Bachelor's or equivalent subcohort of four-yea...</td>\n",
       "      <td>Total</td>\n",
       "      <td>1</td>\n",
       "      <td>414.0</td>\n",
       "      <td>NaN</td>\n",
       "      <td>414</td>\n",
       "      <td>83.0</td>\n",
       "      <td>152.0</td>\n",
       "      <td>NaN</td>\n",
       "      <td>NaN</td>\n",
       "      <td>55.0</td>\n",
       "      <td>124.0</td>\n",
       "      <td>0.200</td>\n",
       "      <td>Male</td>\n",
       "    </tr>\n",
       "    <tr>\n",
       "      <td>4</td>\n",
       "      <td>100654</td>\n",
       "      <td>2016</td>\n",
       "      <td>1</td>\n",
       "      <td>2011</td>\n",
       "      <td>Four or more years</td>\n",
       "      <td>Bachelor's or equivalent subcohort of four-yea...</td>\n",
       "      <td>American Indian or Alaska Native</td>\n",
       "      <td>2</td>\n",
       "      <td>0.0</td>\n",
       "      <td>NaN</td>\n",
       "      <td>0</td>\n",
       "      <td>0.0</td>\n",
       "      <td>0.0</td>\n",
       "      <td>NaN</td>\n",
       "      <td>NaN</td>\n",
       "      <td>0.0</td>\n",
       "      <td>0.0</td>\n",
       "      <td>NaN</td>\n",
       "      <td>Female</td>\n",
       "    </tr>\n",
       "  </tbody>\n",
       "</table>\n",
       "</div>"
      ],
      "text/plain": [
       "   unitid  year  fips  cohort_year   institution_level  \\\n",
       "0  100654  2016     1         2011  Four or more years   \n",
       "1  100654  2016     1         2011  Four or more years   \n",
       "2  100654  2016     1         2011  Four or more years   \n",
       "3  100654  2016     1         2011  Four or more years   \n",
       "4  100654  2016     1         2011  Four or more years   \n",
       "\n",
       "                                           subcohort  \\\n",
       "0                                              Total   \n",
       "1  Bachelor's or equivalent subcohort of four-yea...   \n",
       "2  Bachelor's or equivalent subcohort of four-yea...   \n",
       "3  Bachelor's or equivalent subcohort of four-yea...   \n",
       "4  Bachelor's or equivalent subcohort of four-yea...   \n",
       "\n",
       "                                        race  sex  cohort_rev  exclusions  \\\n",
       "0                                      Black   99         NaN         NaN   \n",
       "1                                      Black   99       807.0         NaN   \n",
       "2  Native Hawaiian or other Pacific Islander    1         0.0         NaN   \n",
       "3                                      Total    1       414.0         NaN   \n",
       "4           American Indian or Alaska Native    2         0.0         NaN   \n",
       "\n",
       "   cohort_adj_150pct  completers_150pct  transfers_out  \\\n",
       "0                807              195.0          313.0   \n",
       "1                807              195.0          313.0   \n",
       "2                  0                0.0            0.0   \n",
       "3                414               83.0          152.0   \n",
       "4                  0                0.0            0.0   \n",
       "\n",
       "   still_enrolled_long_program  completers_100pct  still_enrolled  \\\n",
       "0                          NaN                NaN            96.0   \n",
       "1                          NaN                NaN            96.0   \n",
       "2                          NaN                NaN             0.0   \n",
       "3                          NaN                NaN            55.0   \n",
       "4                          NaN                NaN             0.0   \n",
       "\n",
       "   no_longer_enrolled  completion_rate_150pct  gender  \n",
       "0               203.0                   0.242   Total  \n",
       "1               203.0                   0.242   Total  \n",
       "2                 0.0                     NaN    Male  \n",
       "3               124.0                   0.200    Male  \n",
       "4                 0.0                     NaN  Female  "
      ]
     },
     "execution_count": 55,
     "metadata": {},
     "output_type": "execute_result"
    }
   ],
   "source": [
    "comp.head()"
   ]
  },
  {
   "cell_type": "code",
   "execution_count": 56,
   "metadata": {},
   "outputs": [
    {
     "data": {
      "text/plain": [
       "array([2011, 2014, 2010, 2013])"
      ]
     },
     "execution_count": 56,
     "metadata": {},
     "output_type": "execute_result"
    }
   ],
   "source": [
    "comp.cohort_year.unique()"
   ]
  },
  {
   "cell_type": "code",
   "execution_count": 57,
   "metadata": {},
   "outputs": [
    {
     "data": {
      "text/plain": [
       "454246"
      ]
     },
     "execution_count": 57,
     "metadata": {},
     "output_type": "execute_result"
    }
   ],
   "source": [
    "len(comp)"
   ]
  },
  {
   "cell_type": "code",
   "execution_count": 58,
   "metadata": {},
   "outputs": [
    {
     "data": {
      "text/plain": [
       "array([2016, 2015])"
      ]
     },
     "execution_count": 58,
     "metadata": {},
     "output_type": "execute_result"
    }
   ],
   "source": [
    "comp.year.unique()"
   ]
  },
  {
   "cell_type": "code",
   "execution_count": 59,
   "metadata": {},
   "outputs": [],
   "source": [
    "comp.to_csv('data/clean_college_completers.csv', index=False)"
   ]
  },
  {
   "cell_type": "markdown",
   "metadata": {},
   "source": [
    "### check aid df"
   ]
  },
  {
   "cell_type": "code",
   "execution_count": 60,
   "metadata": {},
   "outputs": [
    {
     "data": {
      "text/plain": [
       "Index(['opeid6', 'year', 'unitid', 'opeid', 'fips', 'lowincome_pct',\n",
       "       'independent_pct', 'dependent_lowincome_pct',\n",
       "       'independent_lowincome_pct', 'midincome1_pct', 'midincome2_pct',\n",
       "       'highincome1_pct', 'highincome2_pct', 'dependent_midincome1_pct',\n",
       "       'dependent_midincome2_pct', 'dependent_highincome1_pct',\n",
       "       'dependent_highincome2_pct', 'independent_midincome1_pct',\n",
       "       'independent_midincome2_pct', 'independent_highincome1_pct',\n",
       "       'independent_highincome2_pct', 'parents_highest_ed_middle_school',\n",
       "       'parents_highest_ed_high_school', 'parents_highest_ed_postsecondary',\n",
       "       'fafsa_sent_2ormore_pct', 'fafsa_sent_3ormore_pct',\n",
       "       'fafsa_sent_4ormore_pct', 'fafsa_sent_5ormore_pct',\n",
       "       'dependent_income_mean', 'independent_income_mean',\n",
       "       'count_family_income', 'count_family_income_dependent',\n",
       "       'count_family_income_independent', 'count_valid_dep_status',\n",
       "       'count_parent_ed', 'count_total_fafsa_applicants', 'age_24orolder_pct',\n",
       "       'female_pct', 'married_pct', 'dependent_pct', 'veteran_pct',\n",
       "       'first_gen_student_pct', 'faminc_mean', 'faminc_med',\n",
       "       'faminc_independents_mean', 'midincome_pct', 'highincome_pct',\n",
       "       'dependent_midincome_pct', 'dependent_highincome_pct',\n",
       "       'independent_midincome_pct', 'independent_highincome_pct'],\n",
       "      dtype='object')"
      ]
     },
     "execution_count": 60,
     "metadata": {},
     "output_type": "execute_result"
    }
   ],
   "source": [
    "aid.columns"
   ]
  },
  {
   "cell_type": "code",
   "execution_count": 61,
   "metadata": {},
   "outputs": [],
   "source": [
    "aid.drop(columns=['independent_pct', 'dependent_lowincome_pct', 'independent_lowincome_pct', 'midincome1_pct', 'midincome2_pct',\n",
    "                  'highincome1_pct', 'highincome2_pct', 'dependent_midincome1_pct','dependent_midincome2_pct',\n",
    "                  'dependent_highincome1_pct','dependent_highincome2_pct', 'independent_midincome1_pct','fips', \n",
    "                  'independent_midincome2_pct', 'independent_highincome1_pct','independent_highincome2_pct',\n",
    "                  'parents_highest_ed_middle_school', 'parents_highest_ed_high_school', 'parents_highest_ed_postsecondary', \n",
    "                  'dependent_income_mean', 'independent_income_mean','faminc_independents_mean', 'count_family_income',\n",
    "                  'count_family_income_dependent', 'count_family_income_independent', 'count_valid_dep_status',\n",
    "                  'count_parent_ed', 'age_24orolder_pct','female_pct', 'married_pct', 'dependent_pct', 'veteran_pct',\n",
    "                  'faminc_med', 'midincome_pct', 'highincome_pct','dependent_midincome_pct', 'dependent_highincome_pct',\n",
    "                  'independent_midincome_pct', 'independent_highincome_pct'], inplace=True)"
   ]
  },
  {
   "cell_type": "code",
   "execution_count": 62,
   "metadata": {},
   "outputs": [],
   "source": [
    "acols = ['lowincome_pct','fafsa_sent_2ormore_pct', 'fafsa_sent_3ormore_pct',\n",
    "       'fafsa_sent_4ormore_pct', 'fafsa_sent_5ormore_pct',\n",
    "       'count_total_fafsa_applicants', 'first_gen_student_pct', 'faminc_mean']"
   ]
  },
  {
   "cell_type": "code",
   "execution_count": 63,
   "metadata": {},
   "outputs": [],
   "source": [
    "aid[acols] = aid[acols].replace({-1:np.nan, -2:np.nan, -3:np.nan})"
   ]
  },
  {
   "cell_type": "code",
   "execution_count": 64,
   "metadata": {},
   "outputs": [
    {
     "data": {
      "text/html": [
       "<div>\n",
       "<style scoped>\n",
       "    .dataframe tbody tr th:only-of-type {\n",
       "        vertical-align: middle;\n",
       "    }\n",
       "\n",
       "    .dataframe tbody tr th {\n",
       "        vertical-align: top;\n",
       "    }\n",
       "\n",
       "    .dataframe thead th {\n",
       "        text-align: right;\n",
       "    }\n",
       "</style>\n",
       "<table border=\"1\" class=\"dataframe\">\n",
       "  <thead>\n",
       "    <tr style=\"text-align: right;\">\n",
       "      <th></th>\n",
       "      <th>opeid6</th>\n",
       "      <th>year</th>\n",
       "      <th>unitid</th>\n",
       "      <th>opeid</th>\n",
       "      <th>lowincome_pct</th>\n",
       "      <th>fafsa_sent_2ormore_pct</th>\n",
       "      <th>fafsa_sent_3ormore_pct</th>\n",
       "      <th>fafsa_sent_4ormore_pct</th>\n",
       "      <th>fafsa_sent_5ormore_pct</th>\n",
       "      <th>count_total_fafsa_applicants</th>\n",
       "      <th>first_gen_student_pct</th>\n",
       "      <th>faminc_mean</th>\n",
       "    </tr>\n",
       "  </thead>\n",
       "  <tbody>\n",
       "    <tr>\n",
       "      <td>0</td>\n",
       "      <td>1002</td>\n",
       "      <td>2016</td>\n",
       "      <td>100654</td>\n",
       "      <td>100200</td>\n",
       "      <td>0.602009</td>\n",
       "      <td>0.729127</td>\n",
       "      <td>0.566855</td>\n",
       "      <td>0.457941</td>\n",
       "      <td>0.363151</td>\n",
       "      <td>3186.0</td>\n",
       "      <td>0.365828</td>\n",
       "      <td>32362.80</td>\n",
       "    </tr>\n",
       "    <tr>\n",
       "      <td>1</td>\n",
       "      <td>1052</td>\n",
       "      <td>2016</td>\n",
       "      <td>100663</td>\n",
       "      <td>105200</td>\n",
       "      <td>0.427613</td>\n",
       "      <td>0.513508</td>\n",
       "      <td>0.263462</td>\n",
       "      <td>0.165269</td>\n",
       "      <td>0.107695</td>\n",
       "      <td>5367.0</td>\n",
       "      <td>0.341224</td>\n",
       "      <td>51306.70</td>\n",
       "    </tr>\n",
       "    <tr>\n",
       "      <td>2</td>\n",
       "      <td>25034</td>\n",
       "      <td>2016</td>\n",
       "      <td>100690</td>\n",
       "      <td>2503400</td>\n",
       "      <td>0.773649</td>\n",
       "      <td>0.594595</td>\n",
       "      <td>0.337838</td>\n",
       "      <td>0.243243</td>\n",
       "      <td>0.158784</td>\n",
       "      <td>296.0</td>\n",
       "      <td>0.512500</td>\n",
       "      <td>21079.50</td>\n",
       "    </tr>\n",
       "    <tr>\n",
       "      <td>3</td>\n",
       "      <td>1055</td>\n",
       "      <td>2016</td>\n",
       "      <td>100706</td>\n",
       "      <td>105500</td>\n",
       "      <td>0.374634</td>\n",
       "      <td>0.529092</td>\n",
       "      <td>0.273755</td>\n",
       "      <td>0.157388</td>\n",
       "      <td>0.102553</td>\n",
       "      <td>2389.0</td>\n",
       "      <td>0.310132</td>\n",
       "      <td>61096.60</td>\n",
       "    </tr>\n",
       "    <tr>\n",
       "      <td>4</td>\n",
       "      <td>1005</td>\n",
       "      <td>2016</td>\n",
       "      <td>100724</td>\n",
       "      <td>100500</td>\n",
       "      <td>0.614617</td>\n",
       "      <td>0.662540</td>\n",
       "      <td>0.497204</td>\n",
       "      <td>0.384185</td>\n",
       "      <td>0.290335</td>\n",
       "      <td>2504.0</td>\n",
       "      <td>0.343434</td>\n",
       "      <td>31684.40</td>\n",
       "    </tr>\n",
       "    <tr>\n",
       "      <td>...</td>\n",
       "      <td>...</td>\n",
       "      <td>...</td>\n",
       "      <td>...</td>\n",
       "      <td>...</td>\n",
       "      <td>...</td>\n",
       "      <td>...</td>\n",
       "      <td>...</td>\n",
       "      <td>...</td>\n",
       "      <td>...</td>\n",
       "      <td>...</td>\n",
       "      <td>...</td>\n",
       "      <td>...</td>\n",
       "    </tr>\n",
       "    <tr>\n",
       "      <td>14366</td>\n",
       "      <td>42209</td>\n",
       "      <td>2015</td>\n",
       "      <td>48154401</td>\n",
       "      <td>4220901</td>\n",
       "      <td>0.600000</td>\n",
       "      <td>0.421053</td>\n",
       "      <td>NaN</td>\n",
       "      <td>NaN</td>\n",
       "      <td>NaN</td>\n",
       "      <td>95.0</td>\n",
       "      <td>0.554217</td>\n",
       "      <td>35810.50</td>\n",
       "    </tr>\n",
       "    <tr>\n",
       "      <td>14367</td>\n",
       "      <td>42237</td>\n",
       "      <td>2015</td>\n",
       "      <td>48387801</td>\n",
       "      <td>4223701</td>\n",
       "      <td>0.713513</td>\n",
       "      <td>0.545946</td>\n",
       "      <td>0.189189</td>\n",
       "      <td>NaN</td>\n",
       "      <td>NaN</td>\n",
       "      <td>185.0</td>\n",
       "      <td>0.564935</td>\n",
       "      <td>23912.10</td>\n",
       "    </tr>\n",
       "    <tr>\n",
       "      <td>14368</td>\n",
       "      <td>42281</td>\n",
       "      <td>2015</td>\n",
       "      <td>48400201</td>\n",
       "      <td>4228101</td>\n",
       "      <td>0.752055</td>\n",
       "      <td>0.435616</td>\n",
       "      <td>0.168493</td>\n",
       "      <td>0.095890</td>\n",
       "      <td>0.054795</td>\n",
       "      <td>730.0</td>\n",
       "      <td>0.604736</td>\n",
       "      <td>20474.90</td>\n",
       "    </tr>\n",
       "    <tr>\n",
       "      <td>14369</td>\n",
       "      <td>42324</td>\n",
       "      <td>2015</td>\n",
       "      <td>48414501</td>\n",
       "      <td>4232401</td>\n",
       "      <td>0.777778</td>\n",
       "      <td>0.253968</td>\n",
       "      <td>0.103175</td>\n",
       "      <td>NaN</td>\n",
       "      <td>NaN</td>\n",
       "      <td>252.0</td>\n",
       "      <td>0.690323</td>\n",
       "      <td>18167.00</td>\n",
       "    </tr>\n",
       "    <tr>\n",
       "      <td>14370</td>\n",
       "      <td>42156</td>\n",
       "      <td>2015</td>\n",
       "      <td>48621101</td>\n",
       "      <td>4215601</td>\n",
       "      <td>NaN</td>\n",
       "      <td>NaN</td>\n",
       "      <td>NaN</td>\n",
       "      <td>NaN</td>\n",
       "      <td>NaN</td>\n",
       "      <td>116.0</td>\n",
       "      <td>0.720430</td>\n",
       "      <td>5961.91</td>\n",
       "    </tr>\n",
       "  </tbody>\n",
       "</table>\n",
       "<p>14371 rows × 12 columns</p>\n",
       "</div>"
      ],
      "text/plain": [
       "       opeid6  year    unitid    opeid  lowincome_pct  fafsa_sent_2ormore_pct  \\\n",
       "0        1002  2016    100654   100200       0.602009                0.729127   \n",
       "1        1052  2016    100663   105200       0.427613                0.513508   \n",
       "2       25034  2016    100690  2503400       0.773649                0.594595   \n",
       "3        1055  2016    100706   105500       0.374634                0.529092   \n",
       "4        1005  2016    100724   100500       0.614617                0.662540   \n",
       "...       ...   ...       ...      ...            ...                     ...   \n",
       "14366   42209  2015  48154401  4220901       0.600000                0.421053   \n",
       "14367   42237  2015  48387801  4223701       0.713513                0.545946   \n",
       "14368   42281  2015  48400201  4228101       0.752055                0.435616   \n",
       "14369   42324  2015  48414501  4232401       0.777778                0.253968   \n",
       "14370   42156  2015  48621101  4215601            NaN                     NaN   \n",
       "\n",
       "       fafsa_sent_3ormore_pct  fafsa_sent_4ormore_pct  fafsa_sent_5ormore_pct  \\\n",
       "0                    0.566855                0.457941                0.363151   \n",
       "1                    0.263462                0.165269                0.107695   \n",
       "2                    0.337838                0.243243                0.158784   \n",
       "3                    0.273755                0.157388                0.102553   \n",
       "4                    0.497204                0.384185                0.290335   \n",
       "...                       ...                     ...                     ...   \n",
       "14366                     NaN                     NaN                     NaN   \n",
       "14367                0.189189                     NaN                     NaN   \n",
       "14368                0.168493                0.095890                0.054795   \n",
       "14369                0.103175                     NaN                     NaN   \n",
       "14370                     NaN                     NaN                     NaN   \n",
       "\n",
       "       count_total_fafsa_applicants  first_gen_student_pct  faminc_mean  \n",
       "0                            3186.0               0.365828     32362.80  \n",
       "1                            5367.0               0.341224     51306.70  \n",
       "2                             296.0               0.512500     21079.50  \n",
       "3                            2389.0               0.310132     61096.60  \n",
       "4                            2504.0               0.343434     31684.40  \n",
       "...                             ...                    ...          ...  \n",
       "14366                          95.0               0.554217     35810.50  \n",
       "14367                         185.0               0.564935     23912.10  \n",
       "14368                         730.0               0.604736     20474.90  \n",
       "14369                         252.0               0.690323     18167.00  \n",
       "14370                         116.0               0.720430      5961.91  \n",
       "\n",
       "[14371 rows x 12 columns]"
      ]
     },
     "execution_count": 64,
     "metadata": {},
     "output_type": "execute_result"
    }
   ],
   "source": [
    "aid"
   ]
  },
  {
   "cell_type": "code",
   "execution_count": 65,
   "metadata": {},
   "outputs": [
    {
     "data": {
      "text/plain": [
       "array([2016, 2015])"
      ]
     },
     "execution_count": 65,
     "metadata": {},
     "output_type": "execute_result"
    }
   ],
   "source": [
    "aid.year.unique()"
   ]
  },
  {
   "cell_type": "code",
   "execution_count": 66,
   "metadata": {},
   "outputs": [],
   "source": [
    "aid.to_csv('data/clean_college_student_info.csv', index=False)"
   ]
  },
  {
   "cell_type": "code",
   "execution_count": 67,
   "metadata": {},
   "outputs": [],
   "source": [
    "df = geo.merge(adm, on=['year', 'unitid']).merge(req,\n",
    "                         on=['year', 'unitid'])"
   ]
  },
  {
   "cell_type": "code",
   "execution_count": 68,
   "metadata": {},
   "outputs": [],
   "source": [
    "df['opeidi'] = pd.to_numeric(df['opeid'],errors='coerce').fillna(0).astype(int)"
   ]
  },
  {
   "cell_type": "code",
   "execution_count": 69,
   "metadata": {},
   "outputs": [],
   "source": [
    "df2 = df.merge(aid, left_on = ['year', 'unitid', 'opeidi'],\n",
    "               right_on=['year', 'unitid', 'opeid'])"
   ]
  },
  {
   "cell_type": "code",
   "execution_count": 70,
   "metadata": {},
   "outputs": [],
   "source": [
    "df2.rename(columns=({'opeid_x':'opeid'}), inplace=True)\n",
    "df2.drop(columns=['opeid6', 'opeid_y'], inplace=True)"
   ]
  },
  {
   "cell_type": "code",
   "execution_count": 71,
   "metadata": {},
   "outputs": [],
   "source": [
    "df3 = df2.merge(comp, left_on = ['year', 'unitid','sex', 'gender'],\n",
    "                right_on=['year', 'unitid', 'sex', 'gender'], \n",
    "               how='left')"
   ]
  },
  {
   "cell_type": "code",
   "execution_count": 72,
   "metadata": {},
   "outputs": [],
   "source": [
    "df3.to_csv('data/clean_college.csv', index=False)"
   ]
  },
  {
   "cell_type": "markdown",
   "metadata": {},
   "source": [
    "### Trim down to only NY Universities"
   ]
  },
  {
   "cell_type": "code",
   "execution_count": 73,
   "metadata": {
    "scrolled": true
   },
   "outputs": [
    {
     "data": {
      "text/plain": [
       "2017    7144\n",
       "2016    6988\n",
       "2015      91\n",
       "Name: year, dtype: int64"
      ]
     },
     "execution_count": 73,
     "metadata": {},
     "output_type": "execute_result"
    }
   ],
   "source": [
    "geo.year.value_counts()"
   ]
  },
  {
   "cell_type": "code",
   "execution_count": 74,
   "metadata": {},
   "outputs": [],
   "source": [
    "nyColleges = geo[(geo.year==2017) & \n",
    "                 (geo.sector.isin(['Private not-for-profit, four-year or above', 'Public, four-year or above'])) &\n",
    "                 (geo.state_abbr == 'NY') & (geo.inst_size != 'Under 1,000')].copy()"
   ]
  },
  {
   "cell_type": "code",
   "execution_count": 75,
   "metadata": {},
   "outputs": [],
   "source": [
    "nyColleges.reset_index(inplace=True)"
   ]
  },
  {
   "cell_type": "code",
   "execution_count": 76,
   "metadata": {},
   "outputs": [
    {
     "data": {
      "text/plain": [
       "Index(['index', 'year', 'unitid', 'sector', 'hbcu', 'urban_centric_locale',\n",
       "       'opeid', 'land_grant', 'inst_size', 'url_application', 'inst_name',\n",
       "       'address', 'state_abbr', 'zip', 'county_name', 'geo_longitude',\n",
       "       'geo_latitude'],\n",
       "      dtype='object')"
      ]
     },
     "execution_count": 76,
     "metadata": {},
     "output_type": "execute_result"
    }
   ],
   "source": [
    "nyColleges.columns"
   ]
  },
  {
   "cell_type": "code",
   "execution_count": 77,
   "metadata": {},
   "outputs": [],
   "source": [
    "nyColleges.drop(columns=['year', 'sector', 'url_application', 'county_name'], inplace=True)"
   ]
  },
  {
   "cell_type": "code",
   "execution_count": 78,
   "metadata": {},
   "outputs": [],
   "source": [
    "admTotal = adm[(adm.year==2017) & (adm.gender=='Total')].copy()\n",
    "admFemale = adm[(adm.year==2017) & (adm.gender=='Female')].copy()\n",
    "admMale = adm[(adm.year==2017) & (adm.gender=='Male')].copy()"
   ]
  },
  {
   "cell_type": "code",
   "execution_count": 79,
   "metadata": {},
   "outputs": [],
   "source": [
    "admTotal.drop(columns=['sex', 'number_enrolled_ft', 'number_enrolled_pt', \n",
    "                       'gender', 'year'], inplace=True)\n",
    "admFemale.drop(columns=['sex', 'number_enrolled_ft', 'number_enrolled_pt', \n",
    "                      'number_enrolled_total', 'gender', 'year'], inplace=True)\n",
    "admMale.drop(columns=['sex', 'number_enrolled_ft', 'number_enrolled_pt', \n",
    "                      'number_enrolled_total', 'gender', 'year'], inplace=True)"
   ]
  },
  {
   "cell_type": "code",
   "execution_count": 81,
   "metadata": {},
   "outputs": [],
   "source": [
    "# rename cols\n",
    "admTotal.rename(columns={\"number_applied\":\"total_applied\", \n",
    "                        \"number_admitted\":\"total_admitted\", \n",
    "                        \"pct_admitted\": \"pct_admitted_total\", \n",
    "                        \"pct_matriculated\": \"pct_matriculated_total\"}, inplace=True)\n",
    "\n",
    "admFemale.rename(columns={\"number_applied\":\"female_applied\", \n",
    "                        \"number_admitted\":\"female_admitted\", \n",
    "                        \"pct_admitted\": \"pct_admitted_female\", \n",
    "                        \"pct_matriculated\": \"pct_matriculated_female\"}, inplace=True)\n",
    "\n",
    "admMale.rename(columns={\"number_applied\":\"male_applied\", \n",
    "                        \"number_admitted\":\"male_admitted\", \n",
    "                        \"pct_admitted\": \"pct_admitted_male\", \n",
    "                        \"pct_matriculated\": \"pct_matriculated_male\"}, inplace=True)"
   ]
  },
  {
   "cell_type": "code",
   "execution_count": 82,
   "metadata": {},
   "outputs": [],
   "source": [
    "nyColleges = nyColleges.merge(admTotal, on='unitid').merge(admFemale, on='unitid').merge(admMale, on='unitid')"
   ]
  },
  {
   "cell_type": "code",
   "execution_count": 90,
   "metadata": {},
   "outputs": [],
   "source": [
    "nyColleges['pct_admitted_total'] = round(nyColleges['pct_admitted_total'],3)\n",
    "nyColleges['pct_matriculated_total'] = round(nyColleges['pct_matriculated_total'], 3)\n",
    "nyColleges['pct_admitted_female'] = round(nyColleges['pct_admitted_female'],3)\n",
    "nyColleges['pct_matriculated_female'] =round(nyColleges['pct_matriculated_female'],3)\n",
    "nyColleges['pct_admitted_male'] = round(nyColleges['pct_admitted_male'],3)\n",
    "nyColleges['pct_matriculated_male'] =round(nyColleges['pct_matriculated_male'],3)"
   ]
  },
  {
   "cell_type": "code",
   "execution_count": 95,
   "metadata": {},
   "outputs": [],
   "source": [
    "nyColleges = nyColleges.merge(req[req.year==2017], on='unitid')"
   ]
  },
  {
   "cell_type": "code",
   "execution_count": 96,
   "metadata": {},
   "outputs": [
    {
     "data": {
      "text/plain": [
       "Index(['index', 'unitid', 'hbcu', 'urban_centric_locale', 'opeid',\n",
       "       'land_grant', 'inst_size', 'inst_name', 'address', 'state_abbr', 'zip',\n",
       "       'geo_longitude', 'geo_latitude', 'total_applied', 'total_admitted',\n",
       "       'number_enrolled_total', 'pct_admitted_total', 'pct_matriculated_total',\n",
       "       'female_applied', 'female_admitted', 'pct_admitted_female',\n",
       "       'pct_matriculated_female', 'male_applied', 'male_admitted',\n",
       "       'pct_admitted_male', 'pct_matriculated_male', 'year',\n",
       "       'reqt_test_scores', 'open_admissions_policy', 'reqt_hs_gpa',\n",
       "       'reqt_recommendations', 'sat_number_submitting',\n",
       "       'sat_percent_submitting', 'act_number_submitting',\n",
       "       'act_percent_submitting', 'sat_crit_read_25_pctl',\n",
       "       'sat_crit_read_75_pctl', 'sat_math_25_pctl', 'sat_math_75_pctl',\n",
       "       'act_composite_25_pctl', 'act_composite_75_pctl', 'act_english_25_pctl',\n",
       "       'act_english_75_pctl', 'act_math_25_pctl', 'act_math_75_pctl',\n",
       "       'sat_writing_25_pctl', 'sat_writing_75_pctl', 'act_writing_25_pctl',\n",
       "       'act_writing_75_pctl'],\n",
       "      dtype='object')"
      ]
     },
     "execution_count": 96,
     "metadata": {},
     "output_type": "execute_result"
    }
   ],
   "source": [
    "nyColleges.columns"
   ]
  },
  {
   "cell_type": "code",
   "execution_count": 106,
   "metadata": {},
   "outputs": [],
   "source": [
    "totComp = comp[(comp.subcohort=='Total') \n",
    "               & (comp.institution_level=='Four or more years')].groupby(['unitid', 'gender','race']).mean().reset_index()"
   ]
  },
  {
   "cell_type": "code",
   "execution_count": 116,
   "metadata": {},
   "outputs": [],
   "source": [
    "totComp.drop(columns=['fips', 'cohort_year', 'sex', 'cohort_rev', 'exclusions', 'cohort_adj_150pct', \n",
    "             'transfers_out', 'still_enrolled_long_program', 'completers_100pct','completers_150pct',\n",
    "              'still_enrolled', 'no_longer_enrolled', 'year'], inplace=True)"
   ]
  },
  {
   "cell_type": "code",
   "execution_count": 125,
   "metadata": {},
   "outputs": [],
   "source": [
    "tot = totComp[(totComp.gender=='Total') & (totComp.race=='Total')][['unitid', 'completion_rate_150pct']].copy()\n",
    "totFemale = totComp[(totComp.gender=='Female') & (totComp.race=='Total')][['unitid', 'completion_rate_150pct']].copy()\n",
    "totMale = totComp[(totComp.gender=='Male') & (totComp.race=='Total')][['unitid', 'completion_rate_150pct']].copy()"
   ]
  },
  {
   "cell_type": "code",
   "execution_count": 127,
   "metadata": {},
   "outputs": [],
   "source": [
    "totFemale.rename(columns={'completion_rate_150pct':'female_completion_rate_150pct'}, inplace=True)\n",
    "totMale.rename(columns={'completion_rate_150pct':'male_completion_rate_150pct'}, inplace=True)"
   ]
  },
  {
   "cell_type": "code",
   "execution_count": 131,
   "metadata": {},
   "outputs": [],
   "source": [
    "nyColleges = nyColleges.merge(tot, on='unitid').merge(totFemale, on='unitid').merge(totMale, on='unitid')"
   ]
  },
  {
   "cell_type": "code",
   "execution_count": 132,
   "metadata": {},
   "outputs": [],
   "source": [
    "nyColleges = gpd.GeoDataFrame(nyColleges, geometry=gpd.points_from_xy(nyColleges.geo_longitude,\n",
    "                                                               nyColleges.geo_latitude))\n"
   ]
  },
  {
   "cell_type": "code",
   "execution_count": 133,
   "metadata": {},
   "outputs": [],
   "source": [
    "nyColleges.drop(columns=['geo_latitude', 'geo_longitude'], inplace=True)\n"
   ]
  },
  {
   "cell_type": "code",
   "execution_count": 134,
   "metadata": {},
   "outputs": [],
   "source": [
    "nyColleges.drop(columns=['index'], inplace=True)\n",
    "\n"
   ]
  },
  {
   "cell_type": "code",
   "execution_count": 135,
   "metadata": {},
   "outputs": [],
   "source": [
    "nyColleges.to_file(\"data/nyColleges.geojson\", driver=\"GeoJSON\")\n",
    "\n"
   ]
  }
 ],
 "metadata": {
  "kernelspec": {
   "display_name": "Python 3",
   "language": "python",
   "name": "python3"
  },
  "language_info": {
   "codemirror_mode": {
    "name": "ipython",
    "version": 3
   },
   "file_extension": ".py",
   "mimetype": "text/x-python",
   "name": "python",
   "nbconvert_exporter": "python",
   "pygments_lexer": "ipython3",
   "version": "3.7.4"
  }
 },
 "nbformat": 4,
 "nbformat_minor": 2
}
